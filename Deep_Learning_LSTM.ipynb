{
  "nbformat": 4,
  "nbformat_minor": 0,
  "metadata": {
    "colab": {
      "name": "Deep Learning - LSTM.ipynb",
      "provenance": [],
      "collapsed_sections": []
    },
    "kernelspec": {
      "name": "python3",
      "display_name": "Python 3"
    }
  },
  "cells": [
    {
      "cell_type": "code",
      "metadata": {
        "colab": {
          "base_uri": "https://localhost:8080/"
        },
        "id": "99apfDFtP6q5",
        "outputId": "4564b0c3-1586-4591-9198-67f39a59af5b"
      },
      "source": [
        "from google.colab import drive\n",
        "drive.mount('/content/drive')"
      ],
      "execution_count": null,
      "outputs": [
        {
          "output_type": "stream",
          "text": [
            "Mounted at /content/drive\n"
          ],
          "name": "stdout"
        }
      ]
    },
    {
      "cell_type": "code",
      "metadata": {
        "id": "tE63euNjQKaS"
      },
      "source": [
        "import pandas as pd\n",
        "import numpy as np\n",
        "from nltk.corpus import stopwords \n",
        "import re"
      ],
      "execution_count": null,
      "outputs": []
    },
    {
      "cell_type": "code",
      "metadata": {
        "colab": {
          "base_uri": "https://localhost:8080/"
        },
        "id": "6T0ldImmQN4i",
        "outputId": "3c6a820b-1491-4569-f4b5-b295e4c1a321"
      },
      "source": [
        "import nltk                                      \n",
        "nltk.download('stopwords')"
      ],
      "execution_count": null,
      "outputs": [
        {
          "output_type": "stream",
          "text": [
            "[nltk_data] Downloading package stopwords to /root/nltk_data...\n",
            "[nltk_data]   Unzipping corpora/stopwords.zip.\n"
          ],
          "name": "stdout"
        },
        {
          "output_type": "execute_result",
          "data": {
            "text/plain": [
              "True"
            ]
          },
          "metadata": {
            "tags": []
          },
          "execution_count": 3
        }
      ]
    },
    {
      "cell_type": "code",
      "metadata": {
        "id": "JtiKYXbGRGD4"
      },
      "source": [
        "df = pd.read_csv('/content/drive/My Drive/SI650/model_final.csv')"
      ],
      "execution_count": null,
      "outputs": []
    },
    {
      "cell_type": "code",
      "metadata": {
        "id": "W0RSzHnrRRwy"
      },
      "source": [
        "lowered_summary = [k.lower() for k in df.summary]\n",
        "df['summary'] = lowered_summary"
      ],
      "execution_count": null,
      "outputs": []
    },
    {
      "cell_type": "code",
      "metadata": {
        "id": "wA9vMpI5Uy1c"
      },
      "source": [
        "replaced = []\n",
        "for i in df.summary:\n",
        "  i = re.sub(r\"[^ a-zA-Z0-9]+\", \"\", i)\n",
        "  replaced.append(i)"
      ],
      "execution_count": null,
      "outputs": []
    },
    {
      "cell_type": "code",
      "metadata": {
        "id": "yPpQYtVdRMsD"
      },
      "source": [
        "df['summary'] = replaced"
      ],
      "execution_count": null,
      "outputs": []
    },
    {
      "cell_type": "code",
      "metadata": {
        "id": "jiIbmg7gSJkz"
      },
      "source": [
        "stop = set(stopwords.words('english'))"
      ],
      "execution_count": null,
      "outputs": []
    },
    {
      "cell_type": "code",
      "metadata": {
        "id": "TdLUpwAVSeAu"
      },
      "source": [
        "splitted = [k.split() for k in df.summary]"
      ],
      "execution_count": null,
      "outputs": []
    },
    {
      "cell_type": "code",
      "metadata": {
        "id": "oUyeuxLlS1Is"
      },
      "source": [
        "new_words = []\n",
        "for k in splitted:\n",
        "  instance = []\n",
        "  for l in k:\n",
        "    if l not in stop:\n",
        "      instance.append(l)\n",
        "  new_words.append(instance)"
      ],
      "execution_count": null,
      "outputs": []
    },
    {
      "cell_type": "code",
      "metadata": {
        "id": "5AvXorppWxHf"
      },
      "source": [
        "joined = []\n",
        "for i in new_words:\n",
        "  sentences = \" \".join(i)\n",
        "  joined.append(sentences)"
      ],
      "execution_count": null,
      "outputs": []
    },
    {
      "cell_type": "code",
      "metadata": {
        "id": "RfiH406uXaB5"
      },
      "source": [
        "df['summary'] = joined"
      ],
      "execution_count": null,
      "outputs": []
    },
    {
      "cell_type": "code",
      "metadata": {
        "id": "-PoOeJpRXcff"
      },
      "source": [
        "df['summary'] = df['summary'].apply(lambda x: x.split())"
      ],
      "execution_count": null,
      "outputs": []
    },
    {
      "cell_type": "code",
      "metadata": {
        "colab": {
          "base_uri": "https://localhost:8080/",
          "height": 419
        },
        "id": "AzwpFweqb7dS",
        "outputId": "a2533028-37d1-45b1-b469-2f5fd96c8e9a"
      },
      "source": [
        "df"
      ],
      "execution_count": null,
      "outputs": [
        {
          "output_type": "execute_result",
          "data": {
            "text/html": [
              "<div>\n",
              "<style scoped>\n",
              "    .dataframe tbody tr th:only-of-type {\n",
              "        vertical-align: middle;\n",
              "    }\n",
              "\n",
              "    .dataframe tbody tr th {\n",
              "        vertical-align: top;\n",
              "    }\n",
              "\n",
              "    .dataframe thead th {\n",
              "        text-align: right;\n",
              "    }\n",
              "</style>\n",
              "<table border=\"1\" class=\"dataframe\">\n",
              "  <thead>\n",
              "    <tr style=\"text-align: right;\">\n",
              "      <th></th>\n",
              "      <th>Unnamed: 0</th>\n",
              "      <th>ID</th>\n",
              "      <th>Content</th>\n",
              "      <th>summary</th>\n",
              "      <th>Title</th>\n",
              "      <th>Organization</th>\n",
              "      <th>Date</th>\n",
              "      <th>URL</th>\n",
              "    </tr>\n",
              "  </thead>\n",
              "  <tbody>\n",
              "    <tr>\n",
              "      <th>0</th>\n",
              "      <td>0</td>\n",
              "      <td>0</td>\n",
              "      <td>Health Promotion Glossary World Health Organi...</td>\n",
              "      <td>[health, promotion, glossary, world, health, o...</td>\n",
              "      <td>Health Promotion Glossary</td>\n",
              "      <td>IFRC</td>\n",
              "      <td>1998-01-06T11:10:08Z</td>\n",
              "      <td>https://www.who.int/healthpromotion/about/HPR%...</td>\n",
              "    </tr>\n",
              "    <tr>\n",
              "      <th>1</th>\n",
              "      <td>1</td>\n",
              "      <td>1</td>\n",
              "      <td>Microsoft Word - health-policy.doc     Health...</td>\n",
              "      <td>[activities, support, health, always, central,...</td>\n",
              "      <td>Microsoft Word - health-policy.doc</td>\n",
              "      <td>IFRC</td>\n",
              "      <td>2006-10-20T11:53:20Z</td>\n",
              "      <td>https://www.ifrc.org/Global/Publications/Healt...</td>\n",
              "    </tr>\n",
              "    <tr>\n",
              "      <th>2</th>\n",
              "      <td>2</td>\n",
              "      <td>2</td>\n",
              "      <td>The Use of Structured Observations in the Stu...</td>\n",
              "      <td>[schools, wideranging, research, programmes, e...</td>\n",
              "      <td>The Use of Structured Observations in the Stud...</td>\n",
              "      <td>IFRC</td>\n",
              "      <td>2000-12-06T13:57:01Z</td>\n",
              "      <td>https://www.ircwash.org/sites/default/files/Be...</td>\n",
              "    </tr>\n",
              "    <tr>\n",
              "      <th>3</th>\n",
              "      <td>4</td>\n",
              "      <td>4</td>\n",
              "      <td>Microsoft Word - JP7CIMCIProcessGuideFormat.d...</td>\n",
              "      <td>[xiii, written, xiv, guide, organizedxv, 1, pu...</td>\n",
              "      <td>Improving Health through Behavior Change A Pro...</td>\n",
              "      <td>IFRC</td>\n",
              "      <td>2004-08-27T18:49:28Z</td>\n",
              "      <td>http://www.ehproject.org/PDF/Joint_Publication...</td>\n",
              "    </tr>\n",
              "    <tr>\n",
              "      <th>4</th>\n",
              "      <td>5</td>\n",
              "      <td>5</td>\n",
              "      <td>www.ifrc.org Saving lives, changing minds. vo...</td>\n",
              "      <td>[40, million, blood, donations, red, cross, re...</td>\n",
              "      <td>Voluntary blood donation</td>\n",
              "      <td>IFRC</td>\n",
              "      <td>2012-12-04T08:08:25Z</td>\n",
              "      <td>https://www.ifrc.org/PageFiles/53503/1226403-I...</td>\n",
              "    </tr>\n",
              "    <tr>\n",
              "      <th>...</th>\n",
              "      <td>...</td>\n",
              "      <td>...</td>\n",
              "      <td>...</td>\n",
              "      <td>...</td>\n",
              "      <td>...</td>\n",
              "      <td>...</td>\n",
              "      <td>...</td>\n",
              "      <td>...</td>\n",
              "    </tr>\n",
              "    <tr>\n",
              "      <th>212</th>\n",
              "      <td>234</td>\n",
              "      <td>234</td>\n",
              "      <td>Leaving Millions  Behind World Disasters Repo...</td>\n",
              "      <td>[act, disasters, health, emergencies, meet, ne...</td>\n",
              "      <td>World Disasters Report 2018</td>\n",
              "      <td>IFRC</td>\n",
              "      <td>2018-11-27T09:22:32Z</td>\n",
              "      <td>http://media.ifrc.org/ifrc/wp-content/uploads/...</td>\n",
              "    </tr>\n",
              "    <tr>\n",
              "      <th>213</th>\n",
              "      <td>235</td>\n",
              "      <td>235</td>\n",
              "      <td>Climate change, water and food security - ODI...</td>\n",
              "      <td>[odi, background, notes, provide, summary, sna...</td>\n",
              "      <td>Climate change, water and food security - ODI</td>\n",
              "      <td>IFRC</td>\n",
              "      <td>2009-03-11T09:04:07Z</td>\n",
              "      <td>https://www.odi.org/sites/odi.org.uk/files/odi...</td>\n",
              "    </tr>\n",
              "    <tr>\n",
              "      <th>214</th>\n",
              "      <td>236</td>\n",
              "      <td>236</td>\n",
              "      <td>Food Security and Nutrition Indicator Basics ...</td>\n",
              "      <td>[level, hunger, decreased, 27, millions, peopl...</td>\n",
              "      <td>Food Security and Nutrition Indicator Basics</td>\n",
              "      <td>IFRC</td>\n",
              "      <td>2017-11-29T13:20:33Z</td>\n",
              "      <td>https://ifrcwatsanmissionassistant.files.wordp...</td>\n",
              "    </tr>\n",
              "    <tr>\n",
              "      <th>215</th>\n",
              "      <td>237</td>\n",
              "      <td>237</td>\n",
              "      <td>IFRS - Group, Report (new structure)   KPMG S...</td>\n",
              "      <td>[ifrs, group, report, new, structure, kpmg, sa...</td>\n",
              "      <td>IFRC Annual Report 2017</td>\n",
              "      <td>IFRC</td>\n",
              "      <td>2018-04-18T07:02:36Z</td>\n",
              "      <td>https://media.ifrc.org/ifrc/wp-content/uploads...</td>\n",
              "    </tr>\n",
              "    <tr>\n",
              "      <th>216</th>\n",
              "      <td>238</td>\n",
              "      <td>238</td>\n",
              "      <td>Background document about the Clusters and WA...</td>\n",
              "      <td>[cluster, leads, identified, nine, areas, acti...</td>\n",
              "      <td>Background document about the Clusters and WAS...</td>\n",
              "      <td>IFRC</td>\n",
              "      <td>2008-03-28T08:12:19Z</td>\n",
              "      <td>https://ifrcwatsanmissionassistant.files.wordp...</td>\n",
              "    </tr>\n",
              "  </tbody>\n",
              "</table>\n",
              "<p>217 rows × 8 columns</p>\n",
              "</div>"
            ],
            "text/plain": [
              "     Unnamed: 0  ...                                                URL\n",
              "0             0  ...  https://www.who.int/healthpromotion/about/HPR%...\n",
              "1             1  ...  https://www.ifrc.org/Global/Publications/Healt...\n",
              "2             2  ...  https://www.ircwash.org/sites/default/files/Be...\n",
              "3             4  ...  http://www.ehproject.org/PDF/Joint_Publication...\n",
              "4             5  ...  https://www.ifrc.org/PageFiles/53503/1226403-I...\n",
              "..          ...  ...                                                ...\n",
              "212         234  ...  http://media.ifrc.org/ifrc/wp-content/uploads/...\n",
              "213         235  ...  https://www.odi.org/sites/odi.org.uk/files/odi...\n",
              "214         236  ...  https://ifrcwatsanmissionassistant.files.wordp...\n",
              "215         237  ...  https://media.ifrc.org/ifrc/wp-content/uploads...\n",
              "216         238  ...  https://ifrcwatsanmissionassistant.files.wordp...\n",
              "\n",
              "[217 rows x 8 columns]"
            ]
          },
          "metadata": {
            "tags": []
          },
          "execution_count": 14
        }
      ]
    },
    {
      "cell_type": "code",
      "metadata": {
        "id": "NCb0YWtMaP3G"
      },
      "source": [
        "vocabulary = dict()\n",
        "inverse_vocabulary = ['unk']  \n",
        "word_numbers_sentences = []\n",
        "for summaries in df.summary:\n",
        "  sentence_to_numbers = []\n",
        "  for word in summaries:\n",
        "    if word not in vocabulary:\n",
        "        vocabulary[word] = len(inverse_vocabulary)\n",
        "        sentence_to_numbers.append(len(inverse_vocabulary))\n",
        "        inverse_vocabulary.append(word)\n",
        "    else:\n",
        "        sentence_to_numbers.append(vocabulary[word])\n",
        "  word_numbers_sentences.append(sentence_to_numbers)\n",
        "df['converted'] = word_numbers_sentences"
      ],
      "execution_count": null,
      "outputs": []
    },
    {
      "cell_type": "code",
      "metadata": {
        "colab": {
          "base_uri": "https://localhost:8080/",
          "height": 606
        },
        "id": "Su3lWq4scmEY",
        "outputId": "cf981487-a22c-4821-b4d5-e09c2c5e8c5d"
      },
      "source": [
        "df"
      ],
      "execution_count": null,
      "outputs": [
        {
          "output_type": "execute_result",
          "data": {
            "text/html": [
              "<div>\n",
              "<style scoped>\n",
              "    .dataframe tbody tr th:only-of-type {\n",
              "        vertical-align: middle;\n",
              "    }\n",
              "\n",
              "    .dataframe tbody tr th {\n",
              "        vertical-align: top;\n",
              "    }\n",
              "\n",
              "    .dataframe thead th {\n",
              "        text-align: right;\n",
              "    }\n",
              "</style>\n",
              "<table border=\"1\" class=\"dataframe\">\n",
              "  <thead>\n",
              "    <tr style=\"text-align: right;\">\n",
              "      <th></th>\n",
              "      <th>Unnamed: 0</th>\n",
              "      <th>ID</th>\n",
              "      <th>Content</th>\n",
              "      <th>summary</th>\n",
              "      <th>Title</th>\n",
              "      <th>Organization</th>\n",
              "      <th>Date</th>\n",
              "      <th>URL</th>\n",
              "      <th>converted</th>\n",
              "    </tr>\n",
              "  </thead>\n",
              "  <tbody>\n",
              "    <tr>\n",
              "      <th>0</th>\n",
              "      <td>0</td>\n",
              "      <td>0</td>\n",
              "      <td>Health Promotion Glossary World Health Organi...</td>\n",
              "      <td>[health, promotion, glossary, world, health, o...</td>\n",
              "      <td>Health Promotion Glossary</td>\n",
              "      <td>IFRC</td>\n",
              "      <td>1998-01-06T11:10:08Z</td>\n",
              "      <td>https://www.who.int/healthpromotion/about/HPR%...</td>\n",
              "      <td>[1, 2, 3, 4, 1, 5, 6, 1, 2, 3, 7, 8, 9, 10, 11...</td>\n",
              "    </tr>\n",
              "    <tr>\n",
              "      <th>1</th>\n",
              "      <td>1</td>\n",
              "      <td>1</td>\n",
              "      <td>Microsoft Word - health-policy.doc     Health...</td>\n",
              "      <td>[activities, support, health, always, central,...</td>\n",
              "      <td>Microsoft Word - health-policy.doc</td>\n",
              "      <td>IFRC</td>\n",
              "      <td>2006-10-20T11:53:20Z</td>\n",
              "      <td>https://www.ifrc.org/Global/Publications/Healt...</td>\n",
              "      <td>[219, 258, 1, 336, 41, 337, 338, 339, 340, 341...</td>\n",
              "    </tr>\n",
              "    <tr>\n",
              "      <th>2</th>\n",
              "      <td>2</td>\n",
              "      <td>2</td>\n",
              "      <td>The Use of Structured Observations in the Stu...</td>\n",
              "      <td>[schools, wideranging, research, programmes, e...</td>\n",
              "      <td>The Use of Structured Observations in the Stud...</td>\n",
              "      <td>IFRC</td>\n",
              "      <td>2000-12-06T13:57:01Z</td>\n",
              "      <td>https://www.ircwash.org/sites/default/files/Be...</td>\n",
              "      <td>[383, 384, 300, 179, 385, 386, 387, 193, 1, 1,...</td>\n",
              "    </tr>\n",
              "    <tr>\n",
              "      <th>3</th>\n",
              "      <td>4</td>\n",
              "      <td>4</td>\n",
              "      <td>Microsoft Word - JP7CIMCIProcessGuideFormat.d...</td>\n",
              "      <td>[xiii, written, xiv, guide, organizedxv, 1, pu...</td>\n",
              "      <td>Improving Health through Behavior Change A Pro...</td>\n",
              "      <td>IFRC</td>\n",
              "      <td>2004-08-27T18:49:28Z</td>\n",
              "      <td>http://www.ehproject.org/PDF/Joint_Publication...</td>\n",
              "      <td>[1094, 20, 1095, 126, 1096, 396, 24, 126, 258,...</td>\n",
              "    </tr>\n",
              "    <tr>\n",
              "      <th>4</th>\n",
              "      <td>5</td>\n",
              "      <td>5</td>\n",
              "      <td>www.ifrc.org Saving lives, changing minds. vo...</td>\n",
              "      <td>[40, million, blood, donations, red, cross, re...</td>\n",
              "      <td>Voluntary blood donation</td>\n",
              "      <td>IFRC</td>\n",
              "      <td>2012-12-04T08:08:25Z</td>\n",
              "      <td>https://www.ifrc.org/PageFiles/53503/1226403-I...</td>\n",
              "      <td>[1761, 1762, 1763, 1764, 374, 63, 374, 375, 17...</td>\n",
              "    </tr>\n",
              "    <tr>\n",
              "      <th>...</th>\n",
              "      <td>...</td>\n",
              "      <td>...</td>\n",
              "      <td>...</td>\n",
              "      <td>...</td>\n",
              "      <td>...</td>\n",
              "      <td>...</td>\n",
              "      <td>...</td>\n",
              "      <td>...</td>\n",
              "      <td>...</td>\n",
              "    </tr>\n",
              "    <tr>\n",
              "      <th>212</th>\n",
              "      <td>234</td>\n",
              "      <td>234</td>\n",
              "      <td>Leaving Millions  Behind World Disasters Repo...</td>\n",
              "      <td>[act, disasters, health, emergencies, meet, ne...</td>\n",
              "      <td>World Disasters Report 2018</td>\n",
              "      <td>IFRC</td>\n",
              "      <td>2018-11-27T09:22:32Z</td>\n",
              "      <td>http://media.ifrc.org/ifrc/wp-content/uploads/...</td>\n",
              "      <td>[649, 2815, 1, 2647, 376, 125, 66, 1407, 377, ...</td>\n",
              "    </tr>\n",
              "    <tr>\n",
              "      <th>213</th>\n",
              "      <td>235</td>\n",
              "      <td>235</td>\n",
              "      <td>Climate change, water and food security - ODI...</td>\n",
              "      <td>[odi, background, notes, provide, summary, sna...</td>\n",
              "      <td>Climate change, water and food security - ODI</td>\n",
              "      <td>IFRC</td>\n",
              "      <td>2009-03-11T09:04:07Z</td>\n",
              "      <td>https://www.odi.org/sites/odi.org.uk/files/odi...</td>\n",
              "      <td>[18729, 1422, 1271, 256, 3738, 16993, 1496, 12...</td>\n",
              "    </tr>\n",
              "    <tr>\n",
              "      <th>214</th>\n",
              "      <td>236</td>\n",
              "      <td>236</td>\n",
              "      <td>Food Security and Nutrition Indicator Basics ...</td>\n",
              "      <td>[level, hunger, decreased, 27, millions, peopl...</td>\n",
              "      <td>Food Security and Nutrition Indicator Basics</td>\n",
              "      <td>IFRC</td>\n",
              "      <td>2017-11-29T13:20:33Z</td>\n",
              "      <td>https://ifrcwatsanmissionassistant.files.wordp...</td>\n",
              "      <td>[362, 3799, 3662, 334, 3154, 79, 602, 3962, 15...</td>\n",
              "    </tr>\n",
              "    <tr>\n",
              "      <th>215</th>\n",
              "      <td>237</td>\n",
              "      <td>237</td>\n",
              "      <td>IFRS - Group, Report (new structure)   KPMG S...</td>\n",
              "      <td>[ifrs, group, report, new, structure, kpmg, sa...</td>\n",
              "      <td>IFRC Annual Report 2017</td>\n",
              "      <td>IFRC</td>\n",
              "      <td>2018-04-18T07:02:36Z</td>\n",
              "      <td>https://media.ifrc.org/ifrc/wp-content/uploads...</td>\n",
              "      <td>[2755, 1027, 208, 44, 1875, 10234, 8473, 6, 40...</td>\n",
              "    </tr>\n",
              "    <tr>\n",
              "      <th>216</th>\n",
              "      <td>238</td>\n",
              "      <td>238</td>\n",
              "      <td>Background document about the Clusters and WA...</td>\n",
              "      <td>[cluster, leads, identified, nine, areas, acti...</td>\n",
              "      <td>Background document about the Clusters and WAS...</td>\n",
              "      <td>IFRC</td>\n",
              "      <td>2008-03-28T08:12:19Z</td>\n",
              "      <td>https://ifrcwatsanmissionassistant.files.wordp...</td>\n",
              "      <td>[2981, 3955, 626, 10333, 88, 1072, 2693, 1708,...</td>\n",
              "    </tr>\n",
              "  </tbody>\n",
              "</table>\n",
              "<p>217 rows × 9 columns</p>\n",
              "</div>"
            ],
            "text/plain": [
              "     Unnamed: 0  ...                                          converted\n",
              "0             0  ...  [1, 2, 3, 4, 1, 5, 6, 1, 2, 3, 7, 8, 9, 10, 11...\n",
              "1             1  ...  [219, 258, 1, 336, 41, 337, 338, 339, 340, 341...\n",
              "2             2  ...  [383, 384, 300, 179, 385, 386, 387, 193, 1, 1,...\n",
              "3             4  ...  [1094, 20, 1095, 126, 1096, 396, 24, 126, 258,...\n",
              "4             5  ...  [1761, 1762, 1763, 1764, 374, 63, 374, 375, 17...\n",
              "..          ...  ...                                                ...\n",
              "212         234  ...  [649, 2815, 1, 2647, 376, 125, 66, 1407, 377, ...\n",
              "213         235  ...  [18729, 1422, 1271, 256, 3738, 16993, 1496, 12...\n",
              "214         236  ...  [362, 3799, 3662, 334, 3154, 79, 602, 3962, 15...\n",
              "215         237  ...  [2755, 1027, 208, 44, 1875, 10234, 8473, 6, 40...\n",
              "216         238  ...  [2981, 3955, 626, 10333, 88, 1072, 2693, 1708,...\n",
              "\n",
              "[217 rows x 9 columns]"
            ]
          },
          "metadata": {
            "tags": []
          },
          "execution_count": 16
        }
      ]
    },
    {
      "cell_type": "code",
      "metadata": {
        "id": "2zfWFauAkiJP"
      },
      "source": [
        "from gensim.models import KeyedVectors"
      ],
      "execution_count": null,
      "outputs": []
    },
    {
      "cell_type": "code",
      "metadata": {
        "id": "ufFXDrYoh-a8"
      },
      "source": [
        "word2vec = KeyedVectors.load_word2vec_format('/content/drive/My Drive/SI650/GoogleNews-vectors-negative300-SLIM.bin',binary=True)"
      ],
      "execution_count": null,
      "outputs": []
    },
    {
      "cell_type": "code",
      "metadata": {
        "id": "pt6TIktrktQ-"
      },
      "source": [
        "embedding_dim = 300\n",
        "embeddings = 1 * np.random.randn(len(vocabulary) + 1, embedding_dim)  # Initialising the embedding matrix randomly\n",
        "embeddings[0] = 0  \n",
        "# Build the embedding matrix\n",
        "for word, index in vocabulary.items():\n",
        "    if word in word2vec.vocab:\n",
        "        embeddings[index] = word2vec.word_vec(word)"
      ],
      "execution_count": null,
      "outputs": []
    },
    {
      "cell_type": "code",
      "metadata": {
        "id": "q60fzESdlAW0"
      },
      "source": [
        "from keras.preprocessing.sequence import pad_sequences\n",
        "from keras.layers import Dense, Input, Flatten, Conv1D, MaxPooling1D, Embedding, Concatenate, Dropout, GlobalMaxPooling1D\n",
        "from keras.models import Model\n",
        "from sklearn.model_selection import train_test_split"
      ],
      "execution_count": null,
      "outputs": []
    },
    {
      "cell_type": "code",
      "metadata": {
        "id": "n2Dow0o4lVzO"
      },
      "source": [
        "link = pd.read_csv('/content/drive/My Drive/SI650/links.csv')"
      ],
      "execution_count": null,
      "outputs": []
    },
    {
      "cell_type": "code",
      "metadata": {
        "colab": {
          "base_uri": "https://localhost:8080/"
        },
        "id": "KE92KmQppgsS",
        "outputId": "9fbbf6e2-ceba-47e2-87da-0710487e2553"
      },
      "source": [
        "link.shape"
      ],
      "execution_count": null,
      "outputs": [
        {
          "output_type": "execute_result",
          "data": {
            "text/plain": [
              "(240, 14)"
            ]
          },
          "metadata": {
            "tags": []
          },
          "execution_count": 22
        }
      ]
    },
    {
      "cell_type": "code",
      "metadata": {
        "colab": {
          "base_uri": "https://localhost:8080/",
          "height": 1000
        },
        "id": "h-ibGjcWoLG0",
        "outputId": "78662bd3-bf2e-4b0d-9aa7-9126c029db04"
      },
      "source": [
        "merged_df = df.merge(link,how=\"left\",on=['URL'])\n",
        "merged_df"
      ],
      "execution_count": null,
      "outputs": [
        {
          "output_type": "execute_result",
          "data": {
            "text/html": [
              "<div>\n",
              "<style scoped>\n",
              "    .dataframe tbody tr th:only-of-type {\n",
              "        vertical-align: middle;\n",
              "    }\n",
              "\n",
              "    .dataframe tbody tr th {\n",
              "        vertical-align: top;\n",
              "    }\n",
              "\n",
              "    .dataframe thead th {\n",
              "        text-align: right;\n",
              "    }\n",
              "</style>\n",
              "<table border=\"1\" class=\"dataframe\">\n",
              "  <thead>\n",
              "    <tr style=\"text-align: right;\">\n",
              "      <th></th>\n",
              "      <th>Unnamed: 0</th>\n",
              "      <th>ID</th>\n",
              "      <th>Content</th>\n",
              "      <th>summary</th>\n",
              "      <th>Title</th>\n",
              "      <th>Organization</th>\n",
              "      <th>Date</th>\n",
              "      <th>URL</th>\n",
              "      <th>converted</th>\n",
              "      <th>climate change</th>\n",
              "      <th>Health</th>\n",
              "      <th>Education</th>\n",
              "      <th>Nutrition</th>\n",
              "      <th>Protection</th>\n",
              "      <th>Shelter</th>\n",
              "      <th>Water, Sanitation and Hygiene</th>\n",
              "      <th>Camp Coordination &amp; Mgmt</th>\n",
              "      <th>Early Recovery</th>\n",
              "      <th>Emergency Telecom’s</th>\n",
              "      <th>Food Security</th>\n",
              "      <th>Humanitarian &amp; Emergency Relief</th>\n",
              "      <th>Logistics</th>\n",
              "    </tr>\n",
              "  </thead>\n",
              "  <tbody>\n",
              "    <tr>\n",
              "      <th>0</th>\n",
              "      <td>0</td>\n",
              "      <td>0</td>\n",
              "      <td>Health Promotion Glossary World Health Organi...</td>\n",
              "      <td>[health, promotion, glossary, world, health, o...</td>\n",
              "      <td>Health Promotion Glossary</td>\n",
              "      <td>IFRC</td>\n",
              "      <td>1998-01-06T11:10:08Z</td>\n",
              "      <td>https://www.who.int/healthpromotion/about/HPR%...</td>\n",
              "      <td>[1, 2, 3, 4, 1, 5, 6, 1, 2, 3, 7, 8, 9, 10, 11...</td>\n",
              "      <td>health-promotion-glossary-who.pdf</td>\n",
              "      <td>1</td>\n",
              "      <td>0</td>\n",
              "      <td>0</td>\n",
              "      <td>0</td>\n",
              "      <td>0</td>\n",
              "      <td>0</td>\n",
              "      <td>0</td>\n",
              "      <td>0</td>\n",
              "      <td>0</td>\n",
              "      <td>0</td>\n",
              "      <td>0</td>\n",
              "      <td>0</td>\n",
              "    </tr>\n",
              "    <tr>\n",
              "      <th>1</th>\n",
              "      <td>1</td>\n",
              "      <td>1</td>\n",
              "      <td>Microsoft Word - health-policy.doc     Health...</td>\n",
              "      <td>[activities, support, health, always, central,...</td>\n",
              "      <td>Microsoft Word - health-policy.doc</td>\n",
              "      <td>IFRC</td>\n",
              "      <td>2006-10-20T11:53:20Z</td>\n",
              "      <td>https://www.ifrc.org/Global/Publications/Healt...</td>\n",
              "      <td>[219, 258, 1, 336, 41, 337, 338, 339, 340, 341...</td>\n",
              "      <td>health-policy-en.pdf</td>\n",
              "      <td>1</td>\n",
              "      <td>0</td>\n",
              "      <td>0</td>\n",
              "      <td>0</td>\n",
              "      <td>0</td>\n",
              "      <td>0</td>\n",
              "      <td>0</td>\n",
              "      <td>0</td>\n",
              "      <td>0</td>\n",
              "      <td>0</td>\n",
              "      <td>0</td>\n",
              "      <td>0</td>\n",
              "    </tr>\n",
              "    <tr>\n",
              "      <th>2</th>\n",
              "      <td>2</td>\n",
              "      <td>2</td>\n",
              "      <td>The Use of Structured Observations in the Stu...</td>\n",
              "      <td>[schools, wideranging, research, programmes, e...</td>\n",
              "      <td>The Use of Structured Observations in the Stud...</td>\n",
              "      <td>IFRC</td>\n",
              "      <td>2000-12-06T13:57:01Z</td>\n",
              "      <td>https://www.ircwash.org/sites/default/files/Be...</td>\n",
              "      <td>[383, 384, 300, 179, 385, 386, 387, 193, 1, 1,...</td>\n",
              "      <td>the-use-of-structured-observations-lstmh.pdf</td>\n",
              "      <td>1</td>\n",
              "      <td>0</td>\n",
              "      <td>0</td>\n",
              "      <td>0</td>\n",
              "      <td>0</td>\n",
              "      <td>0</td>\n",
              "      <td>0</td>\n",
              "      <td>0</td>\n",
              "      <td>0</td>\n",
              "      <td>0</td>\n",
              "      <td>0</td>\n",
              "      <td>0</td>\n",
              "    </tr>\n",
              "    <tr>\n",
              "      <th>3</th>\n",
              "      <td>4</td>\n",
              "      <td>4</td>\n",
              "      <td>Microsoft Word - JP7CIMCIProcessGuideFormat.d...</td>\n",
              "      <td>[xiii, written, xiv, guide, organizedxv, 1, pu...</td>\n",
              "      <td>Improving Health through Behavior Change A Pro...</td>\n",
              "      <td>IFRC</td>\n",
              "      <td>2004-08-27T18:49:28Z</td>\n",
              "      <td>http://www.ehproject.org/PDF/Joint_Publication...</td>\n",
              "      <td>[1094, 20, 1095, 126, 1096, 396, 24, 126, 258,...</td>\n",
              "      <td>improving-health-through-behaviour-change-ehp.pdf</td>\n",
              "      <td>1</td>\n",
              "      <td>0</td>\n",
              "      <td>0</td>\n",
              "      <td>0</td>\n",
              "      <td>0</td>\n",
              "      <td>1</td>\n",
              "      <td>0</td>\n",
              "      <td>0</td>\n",
              "      <td>0</td>\n",
              "      <td>0</td>\n",
              "      <td>0</td>\n",
              "      <td>0</td>\n",
              "    </tr>\n",
              "    <tr>\n",
              "      <th>4</th>\n",
              "      <td>5</td>\n",
              "      <td>5</td>\n",
              "      <td>www.ifrc.org Saving lives, changing minds. vo...</td>\n",
              "      <td>[40, million, blood, donations, red, cross, re...</td>\n",
              "      <td>Voluntary blood donation</td>\n",
              "      <td>IFRC</td>\n",
              "      <td>2012-12-04T08:08:25Z</td>\n",
              "      <td>https://www.ifrc.org/PageFiles/53503/1226403-I...</td>\n",
              "      <td>[1761, 1762, 1763, 1764, 374, 63, 374, 375, 17...</td>\n",
              "      <td>1226403-IFRC-Health-Corporate-Folder-2012-EN-7...</td>\n",
              "      <td>1</td>\n",
              "      <td>0</td>\n",
              "      <td>0</td>\n",
              "      <td>0</td>\n",
              "      <td>0</td>\n",
              "      <td>0</td>\n",
              "      <td>0</td>\n",
              "      <td>0</td>\n",
              "      <td>0</td>\n",
              "      <td>0</td>\n",
              "      <td>0</td>\n",
              "      <td>0</td>\n",
              "    </tr>\n",
              "    <tr>\n",
              "      <th>...</th>\n",
              "      <td>...</td>\n",
              "      <td>...</td>\n",
              "      <td>...</td>\n",
              "      <td>...</td>\n",
              "      <td>...</td>\n",
              "      <td>...</td>\n",
              "      <td>...</td>\n",
              "      <td>...</td>\n",
              "      <td>...</td>\n",
              "      <td>...</td>\n",
              "      <td>...</td>\n",
              "      <td>...</td>\n",
              "      <td>...</td>\n",
              "      <td>...</td>\n",
              "      <td>...</td>\n",
              "      <td>...</td>\n",
              "      <td>...</td>\n",
              "      <td>...</td>\n",
              "      <td>...</td>\n",
              "      <td>...</td>\n",
              "      <td>...</td>\n",
              "      <td>...</td>\n",
              "    </tr>\n",
              "    <tr>\n",
              "      <th>215</th>\n",
              "      <td>234</td>\n",
              "      <td>234</td>\n",
              "      <td>Leaving Millions  Behind World Disasters Repo...</td>\n",
              "      <td>[act, disasters, health, emergencies, meet, ne...</td>\n",
              "      <td>World Disasters Report 2018</td>\n",
              "      <td>IFRC</td>\n",
              "      <td>2018-11-27T09:22:32Z</td>\n",
              "      <td>http://media.ifrc.org/ifrc/wp-content/uploads/...</td>\n",
              "      <td>[649, 2815, 1, 2647, 376, 125, 66, 1407, 377, ...</td>\n",
              "      <td>B-WDR-2018-EN-LR.pdf</td>\n",
              "      <td>0</td>\n",
              "      <td>0</td>\n",
              "      <td>0</td>\n",
              "      <td>0</td>\n",
              "      <td>0</td>\n",
              "      <td>0</td>\n",
              "      <td>0</td>\n",
              "      <td>0</td>\n",
              "      <td>0</td>\n",
              "      <td>0</td>\n",
              "      <td>1</td>\n",
              "      <td>0</td>\n",
              "    </tr>\n",
              "    <tr>\n",
              "      <th>216</th>\n",
              "      <td>235</td>\n",
              "      <td>235</td>\n",
              "      <td>Climate change, water and food security - ODI...</td>\n",
              "      <td>[odi, background, notes, provide, summary, sna...</td>\n",
              "      <td>Climate change, water and food security - ODI</td>\n",
              "      <td>IFRC</td>\n",
              "      <td>2009-03-11T09:04:07Z</td>\n",
              "      <td>https://www.odi.org/sites/odi.org.uk/files/odi...</td>\n",
              "      <td>[18729, 1422, 1271, 256, 3738, 16993, 1496, 12...</td>\n",
              "      <td>climate-change-water-and-food-security-odi.pdf</td>\n",
              "      <td>0</td>\n",
              "      <td>0</td>\n",
              "      <td>0</td>\n",
              "      <td>0</td>\n",
              "      <td>0</td>\n",
              "      <td>1</td>\n",
              "      <td>0</td>\n",
              "      <td>0</td>\n",
              "      <td>0</td>\n",
              "      <td>1</td>\n",
              "      <td>0</td>\n",
              "      <td>0</td>\n",
              "    </tr>\n",
              "    <tr>\n",
              "      <th>217</th>\n",
              "      <td>236</td>\n",
              "      <td>236</td>\n",
              "      <td>Food Security and Nutrition Indicator Basics ...</td>\n",
              "      <td>[level, hunger, decreased, 27, millions, peopl...</td>\n",
              "      <td>Food Security and Nutrition Indicator Basics</td>\n",
              "      <td>IFRC</td>\n",
              "      <td>2017-11-29T13:20:33Z</td>\n",
              "      <td>https://ifrcwatsanmissionassistant.files.wordp...</td>\n",
              "      <td>[362, 3799, 3662, 334, 3154, 79, 602, 3962, 15...</td>\n",
              "      <td>ifrc-perspective-on-wash-and-nutrtion_vf.pdf</td>\n",
              "      <td>0</td>\n",
              "      <td>0</td>\n",
              "      <td>1</td>\n",
              "      <td>0</td>\n",
              "      <td>0</td>\n",
              "      <td>1</td>\n",
              "      <td>0</td>\n",
              "      <td>0</td>\n",
              "      <td>0</td>\n",
              "      <td>0</td>\n",
              "      <td>0</td>\n",
              "      <td>0</td>\n",
              "    </tr>\n",
              "    <tr>\n",
              "      <th>218</th>\n",
              "      <td>237</td>\n",
              "      <td>237</td>\n",
              "      <td>IFRS - Group, Report (new structure)   KPMG S...</td>\n",
              "      <td>[ifrs, group, report, new, structure, kpmg, sa...</td>\n",
              "      <td>IFRC Annual Report 2017</td>\n",
              "      <td>IFRC</td>\n",
              "      <td>2018-04-18T07:02:36Z</td>\n",
              "      <td>https://media.ifrc.org/ifrc/wp-content/uploads...</td>\n",
              "      <td>[2755, 1027, 208, 44, 1875, 10234, 8473, 6, 40...</td>\n",
              "      <td>IFRC-Report-2017.pdf</td>\n",
              "      <td>0</td>\n",
              "      <td>0</td>\n",
              "      <td>0</td>\n",
              "      <td>0</td>\n",
              "      <td>0</td>\n",
              "      <td>0</td>\n",
              "      <td>0</td>\n",
              "      <td>0</td>\n",
              "      <td>0</td>\n",
              "      <td>0</td>\n",
              "      <td>1</td>\n",
              "      <td>0</td>\n",
              "    </tr>\n",
              "    <tr>\n",
              "      <th>219</th>\n",
              "      <td>238</td>\n",
              "      <td>238</td>\n",
              "      <td>Background document about the Clusters and WA...</td>\n",
              "      <td>[cluster, leads, identified, nine, areas, acti...</td>\n",
              "      <td>Background document about the Clusters and WAS...</td>\n",
              "      <td>IFRC</td>\n",
              "      <td>2008-03-28T08:12:19Z</td>\n",
              "      <td>https://ifrcwatsanmissionassistant.files.wordp...</td>\n",
              "      <td>[2981, 3955, 626, 10333, 88, 1072, 2693, 1708,...</td>\n",
              "      <td>background_document1.pdf</td>\n",
              "      <td>0</td>\n",
              "      <td>0</td>\n",
              "      <td>0</td>\n",
              "      <td>0</td>\n",
              "      <td>0</td>\n",
              "      <td>0</td>\n",
              "      <td>0</td>\n",
              "      <td>0</td>\n",
              "      <td>0</td>\n",
              "      <td>0</td>\n",
              "      <td>1</td>\n",
              "      <td>0</td>\n",
              "    </tr>\n",
              "  </tbody>\n",
              "</table>\n",
              "<p>220 rows × 22 columns</p>\n",
              "</div>"
            ],
            "text/plain": [
              "     Unnamed: 0   ID  ... Humanitarian & Emergency Relief Logistics\n",
              "0             0    0  ...                               0         0\n",
              "1             1    1  ...                               0         0\n",
              "2             2    2  ...                               0         0\n",
              "3             4    4  ...                               0         0\n",
              "4             5    5  ...                               0         0\n",
              "..          ...  ...  ...                             ...       ...\n",
              "215         234  234  ...                               1         0\n",
              "216         235  235  ...                               0         0\n",
              "217         236  236  ...                               0         0\n",
              "218         237  237  ...                               1         0\n",
              "219         238  238  ...                               1         0\n",
              "\n",
              "[220 rows x 22 columns]"
            ]
          },
          "metadata": {
            "tags": []
          },
          "execution_count": 23
        }
      ]
    },
    {
      "cell_type": "code",
      "metadata": {
        "id": "-BbsNaSbq8nL"
      },
      "source": [
        "labels = merged_df[['Health','Education','Nutrition','Protection','Shelter','Water, Sanitation and Hygiene','Camp Coordination & Mgmt'\t,'Early Recovery'\t,'Emergency Telecom’s',\t'Food Security',\t'Humanitarian & Emergency Relief'\t,'Logistics']]"
      ],
      "execution_count": null,
      "outputs": []
    },
    {
      "cell_type": "code",
      "metadata": {
        "colab": {
          "base_uri": "https://localhost:8080/",
          "height": 419
        },
        "id": "hf2yxsGDrq1i",
        "outputId": "b2bba6ce-dcd9-4a62-f13d-b130af43af83"
      },
      "source": [
        "labels"
      ],
      "execution_count": null,
      "outputs": [
        {
          "output_type": "execute_result",
          "data": {
            "text/html": [
              "<div>\n",
              "<style scoped>\n",
              "    .dataframe tbody tr th:only-of-type {\n",
              "        vertical-align: middle;\n",
              "    }\n",
              "\n",
              "    .dataframe tbody tr th {\n",
              "        vertical-align: top;\n",
              "    }\n",
              "\n",
              "    .dataframe thead th {\n",
              "        text-align: right;\n",
              "    }\n",
              "</style>\n",
              "<table border=\"1\" class=\"dataframe\">\n",
              "  <thead>\n",
              "    <tr style=\"text-align: right;\">\n",
              "      <th></th>\n",
              "      <th>Health</th>\n",
              "      <th>Education</th>\n",
              "      <th>Nutrition</th>\n",
              "      <th>Protection</th>\n",
              "      <th>Shelter</th>\n",
              "      <th>Water, Sanitation and Hygiene</th>\n",
              "      <th>Camp Coordination &amp; Mgmt</th>\n",
              "      <th>Early Recovery</th>\n",
              "      <th>Emergency Telecom’s</th>\n",
              "      <th>Food Security</th>\n",
              "      <th>Humanitarian &amp; Emergency Relief</th>\n",
              "      <th>Logistics</th>\n",
              "    </tr>\n",
              "  </thead>\n",
              "  <tbody>\n",
              "    <tr>\n",
              "      <th>0</th>\n",
              "      <td>1</td>\n",
              "      <td>0</td>\n",
              "      <td>0</td>\n",
              "      <td>0</td>\n",
              "      <td>0</td>\n",
              "      <td>0</td>\n",
              "      <td>0</td>\n",
              "      <td>0</td>\n",
              "      <td>0</td>\n",
              "      <td>0</td>\n",
              "      <td>0</td>\n",
              "      <td>0</td>\n",
              "    </tr>\n",
              "    <tr>\n",
              "      <th>1</th>\n",
              "      <td>1</td>\n",
              "      <td>0</td>\n",
              "      <td>0</td>\n",
              "      <td>0</td>\n",
              "      <td>0</td>\n",
              "      <td>0</td>\n",
              "      <td>0</td>\n",
              "      <td>0</td>\n",
              "      <td>0</td>\n",
              "      <td>0</td>\n",
              "      <td>0</td>\n",
              "      <td>0</td>\n",
              "    </tr>\n",
              "    <tr>\n",
              "      <th>2</th>\n",
              "      <td>1</td>\n",
              "      <td>0</td>\n",
              "      <td>0</td>\n",
              "      <td>0</td>\n",
              "      <td>0</td>\n",
              "      <td>0</td>\n",
              "      <td>0</td>\n",
              "      <td>0</td>\n",
              "      <td>0</td>\n",
              "      <td>0</td>\n",
              "      <td>0</td>\n",
              "      <td>0</td>\n",
              "    </tr>\n",
              "    <tr>\n",
              "      <th>3</th>\n",
              "      <td>1</td>\n",
              "      <td>0</td>\n",
              "      <td>0</td>\n",
              "      <td>0</td>\n",
              "      <td>0</td>\n",
              "      <td>1</td>\n",
              "      <td>0</td>\n",
              "      <td>0</td>\n",
              "      <td>0</td>\n",
              "      <td>0</td>\n",
              "      <td>0</td>\n",
              "      <td>0</td>\n",
              "    </tr>\n",
              "    <tr>\n",
              "      <th>4</th>\n",
              "      <td>1</td>\n",
              "      <td>0</td>\n",
              "      <td>0</td>\n",
              "      <td>0</td>\n",
              "      <td>0</td>\n",
              "      <td>0</td>\n",
              "      <td>0</td>\n",
              "      <td>0</td>\n",
              "      <td>0</td>\n",
              "      <td>0</td>\n",
              "      <td>0</td>\n",
              "      <td>0</td>\n",
              "    </tr>\n",
              "    <tr>\n",
              "      <th>...</th>\n",
              "      <td>...</td>\n",
              "      <td>...</td>\n",
              "      <td>...</td>\n",
              "      <td>...</td>\n",
              "      <td>...</td>\n",
              "      <td>...</td>\n",
              "      <td>...</td>\n",
              "      <td>...</td>\n",
              "      <td>...</td>\n",
              "      <td>...</td>\n",
              "      <td>...</td>\n",
              "      <td>...</td>\n",
              "    </tr>\n",
              "    <tr>\n",
              "      <th>215</th>\n",
              "      <td>0</td>\n",
              "      <td>0</td>\n",
              "      <td>0</td>\n",
              "      <td>0</td>\n",
              "      <td>0</td>\n",
              "      <td>0</td>\n",
              "      <td>0</td>\n",
              "      <td>0</td>\n",
              "      <td>0</td>\n",
              "      <td>0</td>\n",
              "      <td>1</td>\n",
              "      <td>0</td>\n",
              "    </tr>\n",
              "    <tr>\n",
              "      <th>216</th>\n",
              "      <td>0</td>\n",
              "      <td>0</td>\n",
              "      <td>0</td>\n",
              "      <td>0</td>\n",
              "      <td>0</td>\n",
              "      <td>1</td>\n",
              "      <td>0</td>\n",
              "      <td>0</td>\n",
              "      <td>0</td>\n",
              "      <td>1</td>\n",
              "      <td>0</td>\n",
              "      <td>0</td>\n",
              "    </tr>\n",
              "    <tr>\n",
              "      <th>217</th>\n",
              "      <td>0</td>\n",
              "      <td>0</td>\n",
              "      <td>1</td>\n",
              "      <td>0</td>\n",
              "      <td>0</td>\n",
              "      <td>1</td>\n",
              "      <td>0</td>\n",
              "      <td>0</td>\n",
              "      <td>0</td>\n",
              "      <td>0</td>\n",
              "      <td>0</td>\n",
              "      <td>0</td>\n",
              "    </tr>\n",
              "    <tr>\n",
              "      <th>218</th>\n",
              "      <td>0</td>\n",
              "      <td>0</td>\n",
              "      <td>0</td>\n",
              "      <td>0</td>\n",
              "      <td>0</td>\n",
              "      <td>0</td>\n",
              "      <td>0</td>\n",
              "      <td>0</td>\n",
              "      <td>0</td>\n",
              "      <td>0</td>\n",
              "      <td>1</td>\n",
              "      <td>0</td>\n",
              "    </tr>\n",
              "    <tr>\n",
              "      <th>219</th>\n",
              "      <td>0</td>\n",
              "      <td>0</td>\n",
              "      <td>0</td>\n",
              "      <td>0</td>\n",
              "      <td>0</td>\n",
              "      <td>0</td>\n",
              "      <td>0</td>\n",
              "      <td>0</td>\n",
              "      <td>0</td>\n",
              "      <td>0</td>\n",
              "      <td>1</td>\n",
              "      <td>0</td>\n",
              "    </tr>\n",
              "  </tbody>\n",
              "</table>\n",
              "<p>220 rows × 12 columns</p>\n",
              "</div>"
            ],
            "text/plain": [
              "     Health  Education  ...  Humanitarian & Emergency Relief  Logistics\n",
              "0         1          0  ...                                0          0\n",
              "1         1          0  ...                                0          0\n",
              "2         1          0  ...                                0          0\n",
              "3         1          0  ...                                0          0\n",
              "4         1          0  ...                                0          0\n",
              "..      ...        ...  ...                              ...        ...\n",
              "215       0          0  ...                                1          0\n",
              "216       0          0  ...                                0          0\n",
              "217       0          0  ...                                0          0\n",
              "218       0          0  ...                                1          0\n",
              "219       0          0  ...                                1          0\n",
              "\n",
              "[220 rows x 12 columns]"
            ]
          },
          "metadata": {
            "tags": []
          },
          "execution_count": 26
        }
      ]
    },
    {
      "cell_type": "code",
      "metadata": {
        "colab": {
          "base_uri": "https://localhost:8080/"
        },
        "id": "NzncTscisgTc",
        "outputId": "597f0752-b55a-4f8a-d370-b90f2135134b"
      },
      "source": [
        "new_df = merged_df[['converted']]\n",
        "new_df.dtypes"
      ],
      "execution_count": null,
      "outputs": [
        {
          "output_type": "execute_result",
          "data": {
            "text/plain": [
              "converted    object\n",
              "dtype: object"
            ]
          },
          "metadata": {
            "tags": []
          },
          "execution_count": 43
        }
      ]
    },
    {
      "cell_type": "code",
      "metadata": {
        "colab": {
          "base_uri": "https://localhost:8080/"
        },
        "id": "8mECnYm-s9e4",
        "outputId": "e9d2228c-d34c-4c0e-fa5b-b436ba97083d"
      },
      "source": [
        "max_seq = []\n",
        "for i in new_df.converted:\n",
        "  max_seq.append(max(i))\n",
        "max_seq_length = max(max_seq)\n",
        "max_seq_length"
      ],
      "execution_count": null,
      "outputs": [
        {
          "output_type": "execute_result",
          "data": {
            "text/plain": [
              "18795"
            ]
          },
          "metadata": {
            "tags": []
          },
          "execution_count": 44
        }
      ]
    },
    {
      "cell_type": "code",
      "metadata": {
        "id": "5nTlX-QwvKSf"
      },
      "source": [
        "X_train, X_validation, Y_train, Y_validation = train_test_split(new_df,labels,random_state=650, test_size=0.2)"
      ],
      "execution_count": null,
      "outputs": []
    },
    {
      "cell_type": "code",
      "metadata": {
        "id": "gLGKEN9yveK2"
      },
      "source": [
        "train =  {'converted': X_train.converted}\n",
        "val = {'converted': X_validation.converted}"
      ],
      "execution_count": null,
      "outputs": []
    },
    {
      "cell_type": "code",
      "metadata": {
        "id": "Z3PHh0yXwM9G"
      },
      "source": [
        "import itertools\n",
        "for dataset, side in itertools.product([train, val], ['converted', 'converted']):\n",
        "    dataset[side] = pad_sequences(dataset[side], maxlen=max_seq_length)"
      ],
      "execution_count": null,
      "outputs": []
    },
    {
      "cell_type": "code",
      "metadata": {
        "colab": {
          "base_uri": "https://localhost:8080/"
        },
        "id": "9HL63kQxwe7c",
        "outputId": "064c98a5-2fb5-4a17-ea0a-65771536f459"
      },
      "source": [
        "train['converted'].shape,val['converted'].shape"
      ],
      "execution_count": null,
      "outputs": [
        {
          "output_type": "execute_result",
          "data": {
            "text/plain": [
              "((176, 18795), (44, 18795))"
            ]
          },
          "metadata": {
            "tags": []
          },
          "execution_count": 48
        }
      ]
    },
    {
      "cell_type": "code",
      "metadata": {
        "colab": {
          "base_uri": "https://localhost:8080/"
        },
        "id": "UuJYha6Zz7gK",
        "outputId": "448d2eae-8c21-4221-a495-e39630eeb094"
      },
      "source": [
        "Y_train.shape, Y_validation.shape"
      ],
      "execution_count": null,
      "outputs": [
        {
          "output_type": "execute_result",
          "data": {
            "text/plain": [
              "((176, 12), (44, 12))"
            ]
          },
          "metadata": {
            "tags": []
          },
          "execution_count": 56
        }
      ]
    },
    {
      "cell_type": "code",
      "metadata": {
        "id": "7TmavDSFz3MC"
      },
      "source": [
        "Y_train = np.asarray(Y_train).astype('float32').reshape((-1,12))\n",
        "Y_validation = np.asarray(Y_validation).astype('float32').reshape((-1,12))"
      ],
      "execution_count": null,
      "outputs": []
    },
    {
      "cell_type": "markdown",
      "metadata": {
        "id": "3BYQjQNzw0kw"
      },
      "source": [
        "### Model Building"
      ]
    },
    {
      "cell_type": "code",
      "metadata": {
        "id": "VvzLAWgIw-ko"
      },
      "source": [
        "import keras\n",
        "from keras.models import Model\n",
        "from keras.layers import Input, Embedding, LSTM, Lambda,Dropout,merge,Lambda,Reshape\n",
        "from keras.layers import BatchNormalization, Bidirectional, GlobalMaxPool1D\n",
        "import keras.backend as K\n",
        "from keras.optimizers import Adam\n",
        "from keras.callbacks import ModelCheckpoint\n",
        "from keras import regularizers\n",
        "import numpy.random as rng\n",
        "from keras.callbacks import EarlyStopping,ModelCheckpoint,ReduceLROnPlateau\n",
        "from keras import models\n",
        "import tensorflow as tf"
      ],
      "execution_count": null,
      "outputs": []
    },
    {
      "cell_type": "code",
      "metadata": {
        "id": "4gNOoY1_xCi-"
      },
      "source": [
        "batch_size = 64 \n",
        "n_epoch = 15\n",
        "W_init = keras.initializers.glorot_uniform(seed=None)"
      ],
      "execution_count": null,
      "outputs": []
    },
    {
      "cell_type": "code",
      "metadata": {
        "colab": {
          "base_uri": "https://localhost:8080/"
        },
        "id": "n_b6XErZxCp7",
        "outputId": "e1700547-cafa-46c9-a6d9-cc4dd807e286"
      },
      "source": [
        "converted_input = Input(shape=(max_seq_length,), dtype='int32')\n",
        "\n",
        "def embedding():\n",
        "    \n",
        "    embedding_layer = Embedding(len(embeddings), 300, weights=[embeddings], input_length=max_seq_length, trainable=False)\n",
        "    print(\"Length: \", len(embeddings))\n",
        "    encoded_converted = embedding_layer(converted_input)\n",
        "    return encoded_converted\n",
        "\n",
        "def middle(q): \n",
        "    x = MaxPooling1D(10,padding='same')(q)\n",
        "    x = LSTM(200, return_sequences=False,kernel_initializer=W_init)(x)\n",
        "    x = Dense(128, activation=\"relu\",kernel_initializer=W_init)(x)\n",
        "    return x\n",
        "\n",
        "def predict(encoded_cnvt):\n",
        "# Calculates the distance\n",
        "    \n",
        "    L1_distance = lambda x: K.abs(x[0]-x[1])\n",
        "    #both = ([encoded_cnvt], mode = L1_distance, output_shape=lambda x: x[0])\n",
        "    prediction = Dense(12,activation='sigmoid',kernel_initializer=W_init)(encoded_cnvt)\n",
        "    return prediction\n",
        "\n",
        "encoded_converted = embedding()\n",
        "encoded_cnvt = middle(encoded_converted)\n",
        "prediction = predict(encoded_cnvt)\n",
        "    \n",
        "model = Model([converted_input], [prediction])\n",
        "\n",
        "optimizer = Adam(lr=0.001,decay=0.0)\n",
        "\n",
        "model.compile(loss='binary_crossentropy', optimizer=optimizer, metrics=['accuracy'])\n",
        "model.summary()\n",
        "\n",
        "earlyStopping = EarlyStopping(monitor='val_loss', patience=20, verbose=0,mode='auto')\n",
        "ckpt = ModelCheckpoint(filepath='650_lstm_max10.h5', save_best_only=True,monitor='val_acc', mode='auto')\n",
        "reduce_lr_loss = ReduceLROnPlateau(monitor='val_loss', factor=0.1,patience=7, verbose=1, epsilon=1e-4,mode='auto')\n"
      ],
      "execution_count": null,
      "outputs": [
        {
          "output_type": "stream",
          "text": [
            "Length:  18796\n",
            "Model: \"functional_11\"\n",
            "_________________________________________________________________\n",
            "Layer (type)                 Output Shape              Param #   \n",
            "=================================================================\n",
            "input_6 (InputLayer)         [(None, 18795)]           0         \n",
            "_________________________________________________________________\n",
            "embedding_5 (Embedding)      (None, 18795, 300)        5638800   \n",
            "_________________________________________________________________\n",
            "max_pooling1d_5 (MaxPooling1 (None, 1880, 300)         0         \n",
            "_________________________________________________________________\n",
            "lstm_5 (LSTM)                (None, 200)               400800    \n",
            "_________________________________________________________________\n",
            "dense_10 (Dense)             (None, 128)               25728     \n",
            "_________________________________________________________________\n",
            "dense_11 (Dense)             (None, 12)                1548      \n",
            "=================================================================\n",
            "Total params: 6,066,876\n",
            "Trainable params: 428,076\n",
            "Non-trainable params: 5,638,800\n",
            "_________________________________________________________________\n",
            "WARNING:tensorflow:`epsilon` argument is deprecated and will be removed, use `min_delta` instead.\n"
          ],
          "name": "stdout"
        }
      ]
    },
    {
      "cell_type": "code",
      "metadata": {
        "id": "J8kuqEDUxC1C",
        "colab": {
          "base_uri": "https://localhost:8080/"
        },
        "outputId": "85bc2ead-2232-46c7-b498-355bbec2c45d"
      },
      "source": [
        "model_trained = model.fit([train['converted']], Y_train, batch_size=batch_size, epochs=n_epoch,\n",
        "                            callbacks=[earlyStopping, ckpt, reduce_lr_loss],\n",
        "                            validation_data=([val['converted']], Y_validation))"
      ],
      "execution_count": null,
      "outputs": [
        {
          "output_type": "stream",
          "text": [
            "Epoch 1/15\n",
            "3/3 [==============================] - ETA: 0s - loss: 0.6310 - accuracy: 0.1648WARNING:tensorflow:Can save best model only with val_acc available, skipping.\n",
            "3/3 [==============================] - 17s 6s/step - loss: 0.6310 - accuracy: 0.1648 - val_loss: 0.4728 - val_accuracy: 0.1818\n",
            "Epoch 2/15\n",
            "3/3 [==============================] - ETA: 0s - loss: 0.4558 - accuracy: 0.2330WARNING:tensorflow:Can save best model only with val_acc available, skipping.\n",
            "3/3 [==============================] - 16s 5s/step - loss: 0.4558 - accuracy: 0.2330 - val_loss: 0.3893 - val_accuracy: 0.1136\n",
            "Epoch 3/15\n",
            "3/3 [==============================] - ETA: 0s - loss: 0.4083 - accuracy: 0.2159WARNING:tensorflow:Can save best model only with val_acc available, skipping.\n",
            "3/3 [==============================] - 16s 5s/step - loss: 0.4083 - accuracy: 0.2159 - val_loss: 0.3769 - val_accuracy: 0.1136\n",
            "Epoch 4/15\n",
            "3/3 [==============================] - ETA: 0s - loss: 0.4002 - accuracy: 0.2159WARNING:tensorflow:Can save best model only with val_acc available, skipping.\n",
            "3/3 [==============================] - 17s 6s/step - loss: 0.4002 - accuracy: 0.2159 - val_loss: 0.3780 - val_accuracy: 0.1136\n",
            "Epoch 5/15\n",
            "3/3 [==============================] - ETA: 0s - loss: 0.3936 - accuracy: 0.2159WARNING:tensorflow:Can save best model only with val_acc available, skipping.\n",
            "3/3 [==============================] - 16s 5s/step - loss: 0.3936 - accuracy: 0.2159 - val_loss: 0.3759 - val_accuracy: 0.1136\n",
            "Epoch 6/15\n",
            "3/3 [==============================] - ETA: 0s - loss: 0.3878 - accuracy: 0.2159WARNING:tensorflow:Can save best model only with val_acc available, skipping.\n",
            "3/3 [==============================] - 16s 5s/step - loss: 0.3878 - accuracy: 0.2159 - val_loss: 0.3721 - val_accuracy: 0.1136\n",
            "Epoch 7/15\n",
            "3/3 [==============================] - ETA: 0s - loss: 0.3818 - accuracy: 0.2159WARNING:tensorflow:Can save best model only with val_acc available, skipping.\n",
            "3/3 [==============================] - 16s 5s/step - loss: 0.3818 - accuracy: 0.2159 - val_loss: 0.3699 - val_accuracy: 0.1136\n",
            "Epoch 8/15\n",
            "3/3 [==============================] - ETA: 0s - loss: 0.3756 - accuracy: 0.2159WARNING:tensorflow:Can save best model only with val_acc available, skipping.\n",
            "3/3 [==============================] - 16s 5s/step - loss: 0.3756 - accuracy: 0.2159 - val_loss: 0.3681 - val_accuracy: 0.1136\n",
            "Epoch 9/15\n",
            "3/3 [==============================] - ETA: 0s - loss: 0.3721 - accuracy: 0.2216WARNING:tensorflow:Can save best model only with val_acc available, skipping.\n",
            "3/3 [==============================] - 17s 6s/step - loss: 0.3721 - accuracy: 0.2216 - val_loss: 0.3678 - val_accuracy: 0.1136\n",
            "Epoch 10/15\n",
            "3/3 [==============================] - ETA: 0s - loss: 0.3694 - accuracy: 0.2443WARNING:tensorflow:Can save best model only with val_acc available, skipping.\n",
            "3/3 [==============================] - 17s 6s/step - loss: 0.3694 - accuracy: 0.2443 - val_loss: 0.3677 - val_accuracy: 0.1364\n",
            "Epoch 11/15\n",
            "3/3 [==============================] - ETA: 0s - loss: 0.3619 - accuracy: 0.2330WARNING:tensorflow:Can save best model only with val_acc available, skipping.\n",
            "3/3 [==============================] - 17s 6s/step - loss: 0.3619 - accuracy: 0.2330 - val_loss: 0.3700 - val_accuracy: 0.1136\n",
            "Epoch 12/15\n",
            "3/3 [==============================] - ETA: 0s - loss: 0.3563 - accuracy: 0.2614WARNING:tensorflow:Can save best model only with val_acc available, skipping.\n",
            "3/3 [==============================] - 17s 6s/step - loss: 0.3563 - accuracy: 0.2614 - val_loss: 0.3701 - val_accuracy: 0.1591\n",
            "Epoch 13/15\n",
            "3/3 [==============================] - ETA: 0s - loss: 0.3472 - accuracy: 0.2500WARNING:tensorflow:Can save best model only with val_acc available, skipping.\n",
            "3/3 [==============================] - 16s 5s/step - loss: 0.3472 - accuracy: 0.2500 - val_loss: 0.3659 - val_accuracy: 0.1364\n",
            "Epoch 14/15\n",
            "3/3 [==============================] - ETA: 0s - loss: 0.3395 - accuracy: 0.2898WARNING:tensorflow:Can save best model only with val_acc available, skipping.\n",
            "3/3 [==============================] - 16s 5s/step - loss: 0.3395 - accuracy: 0.2898 - val_loss: 0.3643 - val_accuracy: 0.1818\n",
            "Epoch 15/15\n",
            "3/3 [==============================] - ETA: 0s - loss: 0.3338 - accuracy: 0.2784WARNING:tensorflow:Can save best model only with val_acc available, skipping.\n",
            "3/3 [==============================] - 16s 5s/step - loss: 0.3338 - accuracy: 0.2784 - val_loss: 0.3684 - val_accuracy: 0.1364\n"
          ],
          "name": "stdout"
        }
      ]
    },
    {
      "cell_type": "code",
      "metadata": {
        "id": "XtIImCh3xC8D",
        "colab": {
          "base_uri": "https://localhost:8080/",
          "height": 307
        },
        "outputId": "05bae3ef-2d9f-41fc-c805-27c79f87a189"
      },
      "source": [
        "model = models.load_model('650_lstm_max10.h5')"
      ],
      "execution_count": null,
      "outputs": [
        {
          "output_type": "error",
          "ename": "OSError",
          "evalue": "ignored",
          "traceback": [
            "\u001b[0;31m---------------------------------------------------------------------------\u001b[0m",
            "\u001b[0;31mOSError\u001b[0m                                   Traceback (most recent call last)",
            "\u001b[0;32m<ipython-input-66-4c64a77989a9>\u001b[0m in \u001b[0;36m<module>\u001b[0;34m()\u001b[0m\n\u001b[0;32m----> 1\u001b[0;31m \u001b[0mmodel\u001b[0m \u001b[0;34m=\u001b[0m \u001b[0mmodels\u001b[0m\u001b[0;34m.\u001b[0m\u001b[0mload_model\u001b[0m\u001b[0;34m(\u001b[0m\u001b[0;34m'650_lstm_max10.h5'\u001b[0m\u001b[0;34m)\u001b[0m\u001b[0;34m\u001b[0m\u001b[0;34m\u001b[0m\u001b[0m\n\u001b[0m",
            "\u001b[0;32m/usr/local/lib/python3.6/dist-packages/tensorflow/python/keras/saving/save.py\u001b[0m in \u001b[0;36mload_model\u001b[0;34m(filepath, custom_objects, compile, options)\u001b[0m\n\u001b[1;32m    184\u001b[0m     \u001b[0mfilepath\u001b[0m \u001b[0;34m=\u001b[0m \u001b[0mpath_to_string\u001b[0m\u001b[0;34m(\u001b[0m\u001b[0mfilepath\u001b[0m\u001b[0;34m)\u001b[0m\u001b[0;34m\u001b[0m\u001b[0;34m\u001b[0m\u001b[0m\n\u001b[1;32m    185\u001b[0m     \u001b[0;32mif\u001b[0m \u001b[0misinstance\u001b[0m\u001b[0;34m(\u001b[0m\u001b[0mfilepath\u001b[0m\u001b[0;34m,\u001b[0m \u001b[0msix\u001b[0m\u001b[0;34m.\u001b[0m\u001b[0mstring_types\u001b[0m\u001b[0;34m)\u001b[0m\u001b[0;34m:\u001b[0m\u001b[0;34m\u001b[0m\u001b[0;34m\u001b[0m\u001b[0m\n\u001b[0;32m--> 186\u001b[0;31m       \u001b[0mloader_impl\u001b[0m\u001b[0;34m.\u001b[0m\u001b[0mparse_saved_model\u001b[0m\u001b[0;34m(\u001b[0m\u001b[0mfilepath\u001b[0m\u001b[0;34m)\u001b[0m\u001b[0;34m\u001b[0m\u001b[0;34m\u001b[0m\u001b[0m\n\u001b[0m\u001b[1;32m    187\u001b[0m       \u001b[0;32mreturn\u001b[0m \u001b[0msaved_model_load\u001b[0m\u001b[0;34m.\u001b[0m\u001b[0mload\u001b[0m\u001b[0;34m(\u001b[0m\u001b[0mfilepath\u001b[0m\u001b[0;34m,\u001b[0m \u001b[0mcompile\u001b[0m\u001b[0;34m,\u001b[0m \u001b[0moptions\u001b[0m\u001b[0;34m)\u001b[0m\u001b[0;34m\u001b[0m\u001b[0;34m\u001b[0m\u001b[0m\n\u001b[1;32m    188\u001b[0m \u001b[0;34m\u001b[0m\u001b[0m\n",
            "\u001b[0;32m/usr/local/lib/python3.6/dist-packages/tensorflow/python/saved_model/loader_impl.py\u001b[0m in \u001b[0;36mparse_saved_model\u001b[0;34m(export_dir)\u001b[0m\n\u001b[1;32m    111\u001b[0m                   (export_dir,\n\u001b[1;32m    112\u001b[0m                    \u001b[0mconstants\u001b[0m\u001b[0;34m.\u001b[0m\u001b[0mSAVED_MODEL_FILENAME_PBTXT\u001b[0m\u001b[0;34m,\u001b[0m\u001b[0;34m\u001b[0m\u001b[0;34m\u001b[0m\u001b[0m\n\u001b[0;32m--> 113\u001b[0;31m                    constants.SAVED_MODEL_FILENAME_PB))\n\u001b[0m\u001b[1;32m    114\u001b[0m \u001b[0;34m\u001b[0m\u001b[0m\n\u001b[1;32m    115\u001b[0m \u001b[0;34m\u001b[0m\u001b[0m\n",
            "\u001b[0;31mOSError\u001b[0m: SavedModel file does not exist at: 650_lstm_max10.h5/{saved_model.pbtxt|saved_model.pb}"
          ]
        }
      ]
    },
    {
      "cell_type": "code",
      "metadata": {
        "id": "XJxAQ-rir6VG"
      },
      "source": [
        "model.save_weights('650_lstm_max10_weights.h5')"
      ],
      "execution_count": null,
      "outputs": []
    },
    {
      "cell_type": "code",
      "metadata": {
        "id": "-NXTomwDsBrm"
      },
      "source": [
        "model1 = Model([converted_input], [encoded_cnvt])"
      ],
      "execution_count": null,
      "outputs": []
    },
    {
      "cell_type": "code",
      "metadata": {
        "id": "qTBqSzMhsBuI"
      },
      "source": [
        "model1.save('650_lstm_max10_dense.h5')"
      ],
      "execution_count": null,
      "outputs": []
    },
    {
      "cell_type": "code",
      "metadata": {
        "id": "X1VKCNMYsByZ"
      },
      "source": [
        "model1.save_weights('650_lstm_max10_dense_weights.h5')"
      ],
      "execution_count": null,
      "outputs": []
    },
    {
      "cell_type": "code",
      "metadata": {
        "id": "Yz3b9YzesCfR"
      },
      "source": [
        "train_prediction = model1.predict([train['converted']]) #training predictions"
      ],
      "execution_count": null,
      "outputs": []
    },
    {
      "cell_type": "code",
      "metadata": {
        "id": "VQUJCM8hsCia"
      },
      "source": [
        "train_prediction = np.array(train_prediction)"
      ],
      "execution_count": null,
      "outputs": []
    },
    {
      "cell_type": "code",
      "metadata": {
        "colab": {
          "base_uri": "https://localhost:8080/"
        },
        "id": "T_NhNfd6tEkW",
        "outputId": "562ca8ff-66e0-486b-9b36-5d22bb34e7b9"
      },
      "source": [
        "train_prediction.shape"
      ],
      "execution_count": null,
      "outputs": [
        {
          "output_type": "execute_result",
          "data": {
            "text/plain": [
              "(176, 128)"
            ]
          },
          "metadata": {
            "tags": []
          },
          "execution_count": 74
        }
      ]
    },
    {
      "cell_type": "code",
      "metadata": {
        "id": "cU3DG8ZRtEnK"
      },
      "source": [
        "np.save('train_predictions.npy',train_prediction)"
      ],
      "execution_count": null,
      "outputs": []
    },
    {
      "cell_type": "code",
      "metadata": {
        "id": "VLps531rtEsC"
      },
      "source": [
        "train_pred = np.reshape(train_prediction,(-1,128))"
      ],
      "execution_count": null,
      "outputs": []
    },
    {
      "cell_type": "code",
      "metadata": {
        "colab": {
          "base_uri": "https://localhost:8080/"
        },
        "id": "CPQHtgO4tEuk",
        "outputId": "20a534e9-848a-4499-9192-d82e4549def0"
      },
      "source": [
        "train_pred.shape"
      ],
      "execution_count": null,
      "outputs": [
        {
          "output_type": "execute_result",
          "data": {
            "text/plain": [
              "(176, 128)"
            ]
          },
          "metadata": {
            "tags": []
          },
          "execution_count": 77
        }
      ]
    },
    {
      "cell_type": "code",
      "metadata": {
        "id": "7tMW_3ZYtExa"
      },
      "source": [
        ""
      ],
      "execution_count": null,
      "outputs": []
    },
    {
      "cell_type": "markdown",
      "metadata": {
        "id": "f3KRhRsAaMHV"
      },
      "source": [
        "# Queries"
      ]
    },
    {
      "cell_type": "code",
      "metadata": {
        "id": "We97cU3RXtL5"
      },
      "source": [
        "queries = pd.read_csv('/content/drive/My Drive/SI650/queries.csv')"
      ],
      "execution_count": null,
      "outputs": []
    },
    {
      "cell_type": "code",
      "metadata": {
        "id": "uTN1YgwpX99z"
      },
      "source": [
        "lowered_q = [k.lower() for k in queries.Query]\n",
        "queries['Query'] = lowered_q"
      ],
      "execution_count": null,
      "outputs": []
    },
    {
      "cell_type": "code",
      "metadata": {
        "colab": {
          "base_uri": "https://localhost:8080/",
          "height": 979
        },
        "id": "FuujdyuwXxmj",
        "outputId": "51b105d6-6061-4d3e-8a1a-b6fc4a20f6fc"
      },
      "source": [
        "queries"
      ],
      "execution_count": null,
      "outputs": [
        {
          "output_type": "execute_result",
          "data": {
            "text/html": [
              "<div>\n",
              "<style scoped>\n",
              "    .dataframe tbody tr th:only-of-type {\n",
              "        vertical-align: middle;\n",
              "    }\n",
              "\n",
              "    .dataframe tbody tr th {\n",
              "        vertical-align: top;\n",
              "    }\n",
              "\n",
              "    .dataframe thead th {\n",
              "        text-align: right;\n",
              "    }\n",
              "</style>\n",
              "<table border=\"1\" class=\"dataframe\">\n",
              "  <thead>\n",
              "    <tr style=\"text-align: right;\">\n",
              "      <th></th>\n",
              "      <th>Query_id</th>\n",
              "      <th>Query</th>\n",
              "    </tr>\n",
              "  </thead>\n",
              "  <tbody>\n",
              "    <tr>\n",
              "      <th>0</th>\n",
              "      <td>1</td>\n",
              "      <td>how to audit water safety plans</td>\n",
              "    </tr>\n",
              "    <tr>\n",
              "      <th>1</th>\n",
              "      <td>2</td>\n",
              "      <td>annual summary reports</td>\n",
              "    </tr>\n",
              "    <tr>\n",
              "      <th>2</th>\n",
              "      <td>3</td>\n",
              "      <td>unicef reports</td>\n",
              "    </tr>\n",
              "    <tr>\n",
              "      <th>3</th>\n",
              "      <td>4</td>\n",
              "      <td>iwa reports</td>\n",
              "    </tr>\n",
              "    <tr>\n",
              "      <th>4</th>\n",
              "      <td>5</td>\n",
              "      <td>ifrc reports</td>\n",
              "    </tr>\n",
              "    <tr>\n",
              "      <th>5</th>\n",
              "      <td>6</td>\n",
              "      <td>funding for emergency</td>\n",
              "    </tr>\n",
              "    <tr>\n",
              "      <th>6</th>\n",
              "      <td>7</td>\n",
              "      <td>school wash</td>\n",
              "    </tr>\n",
              "    <tr>\n",
              "      <th>7</th>\n",
              "      <td>8</td>\n",
              "      <td>childhood development by education</td>\n",
              "    </tr>\n",
              "    <tr>\n",
              "      <th>8</th>\n",
              "      <td>9</td>\n",
              "      <td>audit of the consolidated financial statements</td>\n",
              "    </tr>\n",
              "    <tr>\n",
              "      <th>9</th>\n",
              "      <td>10</td>\n",
              "      <td>child protection policies</td>\n",
              "    </tr>\n",
              "    <tr>\n",
              "      <th>10</th>\n",
              "      <td>11</td>\n",
              "      <td>case study on blood donation drive</td>\n",
              "    </tr>\n",
              "    <tr>\n",
              "      <th>11</th>\n",
              "      <td>12</td>\n",
              "      <td>water sanitation and hygiene</td>\n",
              "    </tr>\n",
              "    <tr>\n",
              "      <th>12</th>\n",
              "      <td>13</td>\n",
              "      <td>urban disaster risk reduction</td>\n",
              "    </tr>\n",
              "    <tr>\n",
              "      <th>13</th>\n",
              "      <td>14</td>\n",
              "      <td>covid-19 and humanitarian need</td>\n",
              "    </tr>\n",
              "    <tr>\n",
              "      <th>14</th>\n",
              "      <td>15</td>\n",
              "      <td>emergency telecom</td>\n",
              "    </tr>\n",
              "    <tr>\n",
              "      <th>15</th>\n",
              "      <td>16</td>\n",
              "      <td>humanitarian and emergency relief</td>\n",
              "    </tr>\n",
              "    <tr>\n",
              "      <th>16</th>\n",
              "      <td>17</td>\n",
              "      <td>early recovery</td>\n",
              "    </tr>\n",
              "    <tr>\n",
              "      <th>17</th>\n",
              "      <td>18</td>\n",
              "      <td>shelter operations</td>\n",
              "    </tr>\n",
              "    <tr>\n",
              "      <th>18</th>\n",
              "      <td>19</td>\n",
              "      <td>disaster reports</td>\n",
              "    </tr>\n",
              "    <tr>\n",
              "      <th>19</th>\n",
              "      <td>20</td>\n",
              "      <td>policy reports</td>\n",
              "    </tr>\n",
              "    <tr>\n",
              "      <th>20</th>\n",
              "      <td>21</td>\n",
              "      <td>recovery reports</td>\n",
              "    </tr>\n",
              "    <tr>\n",
              "      <th>21</th>\n",
              "      <td>22</td>\n",
              "      <td>school sanitation hygiene program</td>\n",
              "    </tr>\n",
              "    <tr>\n",
              "      <th>22</th>\n",
              "      <td>23</td>\n",
              "      <td>2017 reports</td>\n",
              "    </tr>\n",
              "    <tr>\n",
              "      <th>23</th>\n",
              "      <td>24</td>\n",
              "      <td>wash nutrition guide book</td>\n",
              "    </tr>\n",
              "    <tr>\n",
              "      <th>24</th>\n",
              "      <td>25</td>\n",
              "      <td>climate change and urbanization</td>\n",
              "    </tr>\n",
              "    <tr>\n",
              "      <th>25</th>\n",
              "      <td>26</td>\n",
              "      <td>refugee hosting areas</td>\n",
              "    </tr>\n",
              "    <tr>\n",
              "      <th>26</th>\n",
              "      <td>27</td>\n",
              "      <td>security manual</td>\n",
              "    </tr>\n",
              "    <tr>\n",
              "      <th>27</th>\n",
              "      <td>28</td>\n",
              "      <td>program reports</td>\n",
              "    </tr>\n",
              "    <tr>\n",
              "      <th>28</th>\n",
              "      <td>29</td>\n",
              "      <td>relief reports</td>\n",
              "    </tr>\n",
              "    <tr>\n",
              "      <th>29</th>\n",
              "      <td>30</td>\n",
              "      <td>food security</td>\n",
              "    </tr>\n",
              "  </tbody>\n",
              "</table>\n",
              "</div>"
            ],
            "text/plain": [
              "    Query_id                                           Query\n",
              "0          1                 how to audit water safety plans\n",
              "1          2                          annual summary reports\n",
              "2          3                                  unicef reports\n",
              "3          4                                     iwa reports\n",
              "4          5                                    ifrc reports\n",
              "5          6                           funding for emergency\n",
              "6          7                                     school wash\n",
              "7          8              childhood development by education\n",
              "8          9  audit of the consolidated financial statements\n",
              "9         10                       child protection policies\n",
              "10        11              case study on blood donation drive\n",
              "11        12                    water sanitation and hygiene\n",
              "12        13                   urban disaster risk reduction\n",
              "13        14                  covid-19 and humanitarian need\n",
              "14        15                               emergency telecom\n",
              "15        16               humanitarian and emergency relief\n",
              "16        17                                  early recovery\n",
              "17        18                              shelter operations\n",
              "18        19                                disaster reports\n",
              "19        20                                  policy reports\n",
              "20        21                                recovery reports\n",
              "21        22               school sanitation hygiene program\n",
              "22        23                                    2017 reports\n",
              "23        24                       wash nutrition guide book\n",
              "24        25                 climate change and urbanization\n",
              "25        26                           refugee hosting areas\n",
              "26        27                                 security manual\n",
              "27        28                                 program reports\n",
              "28        29                                  relief reports\n",
              "29        30                                   food security"
            ]
          },
          "metadata": {
            "tags": []
          },
          "execution_count": 23
        }
      ]
    }
  ]
}