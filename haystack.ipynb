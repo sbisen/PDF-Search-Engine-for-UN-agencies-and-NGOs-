{
  "nbformat": 4,
  "nbformat_minor": 0,
  "metadata": {
    "colab": {
      "name": "haystack.ipynb",
      "provenance": [],
      "collapsed_sections": [],
      "toc_visible": true
    },
    "kernelspec": {
      "name": "python3",
      "display_name": "Python 3"
    },
    "accelerator": "GPU"
  },
  "cells": [
    {
      "cell_type": "code",
      "metadata": {
        "colab": {
          "base_uri": "https://localhost:8080/"
        },
        "id": "99apfDFtP6q5",
        "outputId": "b404e54e-d20b-4ecc-9ffd-dca62c1b29ea"
      },
      "source": [
        "from google.colab import drive\n",
        "drive.mount('/content/drive')"
      ],
      "execution_count": null,
      "outputs": [
        {
          "output_type": "stream",
          "text": [
            "Mounted at /content/drive\n"
          ],
          "name": "stdout"
        }
      ]
    },
    {
      "cell_type": "code",
      "metadata": {
        "id": "tE63euNjQKaS"
      },
      "source": [
        "import pandas as pd\n",
        "import numpy as np\n",
        "from nltk.corpus import stopwords \n",
        "import re"
      ],
      "execution_count": null,
      "outputs": []
    },
    {
      "cell_type": "code",
      "metadata": {
        "colab": {
          "base_uri": "https://localhost:8080/"
        },
        "id": "6T0ldImmQN4i",
        "outputId": "b5976983-f04d-4f3d-f15f-58602fac099a"
      },
      "source": [
        "import nltk                                      \n",
        "nltk.download('stopwords')"
      ],
      "execution_count": null,
      "outputs": [
        {
          "output_type": "stream",
          "text": [
            "[nltk_data] Downloading package stopwords to /root/nltk_data...\n",
            "[nltk_data]   Unzipping corpora/stopwords.zip.\n"
          ],
          "name": "stdout"
        },
        {
          "output_type": "execute_result",
          "data": {
            "text/plain": [
              "True"
            ]
          },
          "metadata": {
            "tags": []
          },
          "execution_count": 3
        }
      ]
    },
    {
      "cell_type": "code",
      "metadata": {
        "id": "JtiKYXbGRGD4"
      },
      "source": [
        "df = pd.read_csv('/content/drive/My Drive/SI650/model_final.csv')"
      ],
      "execution_count": null,
      "outputs": []
    },
    {
      "cell_type": "code",
      "metadata": {
        "id": "W0RSzHnrRRwy"
      },
      "source": [
        "lowered_summary = [k.lower() for k in df.summary]\n",
        "df['summary'] = lowered_summary"
      ],
      "execution_count": null,
      "outputs": []
    },
    {
      "cell_type": "code",
      "metadata": {
        "id": "wA9vMpI5Uy1c"
      },
      "source": [
        "replaced = []\n",
        "for i in df.summary:\n",
        "  i = re.sub(r\"[^ a-zA-Z0-9]+\", \"\", i)\n",
        "  replaced.append(i)"
      ],
      "execution_count": null,
      "outputs": []
    },
    {
      "cell_type": "code",
      "metadata": {
        "id": "yPpQYtVdRMsD"
      },
      "source": [
        "df['summary'] = replaced"
      ],
      "execution_count": null,
      "outputs": []
    },
    {
      "cell_type": "code",
      "metadata": {
        "id": "jiIbmg7gSJkz"
      },
      "source": [
        "stop = set(stopwords.words('english'))"
      ],
      "execution_count": null,
      "outputs": []
    },
    {
      "cell_type": "code",
      "metadata": {
        "id": "TdLUpwAVSeAu"
      },
      "source": [
        "splitted = [k.split() for k in df.summary]"
      ],
      "execution_count": null,
      "outputs": []
    },
    {
      "cell_type": "code",
      "metadata": {
        "id": "oUyeuxLlS1Is"
      },
      "source": [
        "new_words = []\n",
        "for k in splitted:\n",
        "  instance = []\n",
        "  for l in k:\n",
        "    if l not in stop:\n",
        "      instance.append(l)\n",
        "  new_words.append(instance)"
      ],
      "execution_count": null,
      "outputs": []
    },
    {
      "cell_type": "code",
      "metadata": {
        "id": "5AvXorppWxHf"
      },
      "source": [
        "joined = []\n",
        "for i in new_words:\n",
        "  sentences = \" \".join(i)\n",
        "  joined.append(sentences)"
      ],
      "execution_count": null,
      "outputs": []
    },
    {
      "cell_type": "code",
      "metadata": {
        "id": "RfiH406uXaB5"
      },
      "source": [
        "df['summary'] = joined"
      ],
      "execution_count": null,
      "outputs": []
    },
    {
      "cell_type": "code",
      "metadata": {
        "colab": {
          "base_uri": "https://localhost:8080/",
          "height": 606
        },
        "id": "AzwpFweqb7dS",
        "outputId": "0838a672-bb11-4b43-ce6a-a5ec8428a7b7"
      },
      "source": [
        "df"
      ],
      "execution_count": null,
      "outputs": [
        {
          "output_type": "execute_result",
          "data": {
            "text/html": [
              "<div>\n",
              "<style scoped>\n",
              "    .dataframe tbody tr th:only-of-type {\n",
              "        vertical-align: middle;\n",
              "    }\n",
              "\n",
              "    .dataframe tbody tr th {\n",
              "        vertical-align: top;\n",
              "    }\n",
              "\n",
              "    .dataframe thead th {\n",
              "        text-align: right;\n",
              "    }\n",
              "</style>\n",
              "<table border=\"1\" class=\"dataframe\">\n",
              "  <thead>\n",
              "    <tr style=\"text-align: right;\">\n",
              "      <th></th>\n",
              "      <th>Unnamed: 0</th>\n",
              "      <th>ID</th>\n",
              "      <th>Content</th>\n",
              "      <th>summary</th>\n",
              "      <th>Title</th>\n",
              "      <th>Organization</th>\n",
              "      <th>Date</th>\n",
              "      <th>URL</th>\n",
              "    </tr>\n",
              "  </thead>\n",
              "  <tbody>\n",
              "    <tr>\n",
              "      <th>0</th>\n",
              "      <td>0</td>\n",
              "      <td>0</td>\n",
              "      <td>Health Promotion Glossary World Health Organi...</td>\n",
              "      <td>health promotion glossary world health organiz...</td>\n",
              "      <td>Health Promotion Glossary</td>\n",
              "      <td>IFRC</td>\n",
              "      <td>1998-01-06T11:10:08Z</td>\n",
              "      <td>https://www.who.int/healthpromotion/about/HPR%...</td>\n",
              "    </tr>\n",
              "    <tr>\n",
              "      <th>1</th>\n",
              "      <td>1</td>\n",
              "      <td>1</td>\n",
              "      <td>Microsoft Word - health-policy.doc     Health...</td>\n",
              "      <td>activities support health always central carry...</td>\n",
              "      <td>Microsoft Word - health-policy.doc</td>\n",
              "      <td>IFRC</td>\n",
              "      <td>2006-10-20T11:53:20Z</td>\n",
              "      <td>https://www.ifrc.org/Global/Publications/Healt...</td>\n",
              "    </tr>\n",
              "    <tr>\n",
              "      <th>2</th>\n",
              "      <td>2</td>\n",
              "      <td>2</td>\n",
              "      <td>The Use of Structured Observations in the Stu...</td>\n",
              "      <td>schools wideranging research programmes examin...</td>\n",
              "      <td>The Use of Structured Observations in the Stud...</td>\n",
              "      <td>IFRC</td>\n",
              "      <td>2000-12-06T13:57:01Z</td>\n",
              "      <td>https://www.ircwash.org/sites/default/files/Be...</td>\n",
              "    </tr>\n",
              "    <tr>\n",
              "      <th>3</th>\n",
              "      <td>4</td>\n",
              "      <td>4</td>\n",
              "      <td>Microsoft Word - JP7CIMCIProcessGuideFormat.d...</td>\n",
              "      <td>xiii written xiv guide organizedxv 1 purpose g...</td>\n",
              "      <td>Improving Health through Behavior Change A Pro...</td>\n",
              "      <td>IFRC</td>\n",
              "      <td>2004-08-27T18:49:28Z</td>\n",
              "      <td>http://www.ehproject.org/PDF/Joint_Publication...</td>\n",
              "    </tr>\n",
              "    <tr>\n",
              "      <th>4</th>\n",
              "      <td>5</td>\n",
              "      <td>5</td>\n",
              "      <td>www.ifrc.org Saving lives, changing minds. vo...</td>\n",
              "      <td>40 million blood donations red cross red cresc...</td>\n",
              "      <td>Voluntary blood donation</td>\n",
              "      <td>IFRC</td>\n",
              "      <td>2012-12-04T08:08:25Z</td>\n",
              "      <td>https://www.ifrc.org/PageFiles/53503/1226403-I...</td>\n",
              "    </tr>\n",
              "    <tr>\n",
              "      <th>...</th>\n",
              "      <td>...</td>\n",
              "      <td>...</td>\n",
              "      <td>...</td>\n",
              "      <td>...</td>\n",
              "      <td>...</td>\n",
              "      <td>...</td>\n",
              "      <td>...</td>\n",
              "      <td>...</td>\n",
              "    </tr>\n",
              "    <tr>\n",
              "      <th>212</th>\n",
              "      <td>234</td>\n",
              "      <td>234</td>\n",
              "      <td>Leaving Millions  Behind World Disasters Repo...</td>\n",
              "      <td>act disasters health emergencies meet needs im...</td>\n",
              "      <td>World Disasters Report 2018</td>\n",
              "      <td>IFRC</td>\n",
              "      <td>2018-11-27T09:22:32Z</td>\n",
              "      <td>http://media.ifrc.org/ifrc/wp-content/uploads/...</td>\n",
              "    </tr>\n",
              "    <tr>\n",
              "      <th>213</th>\n",
              "      <td>235</td>\n",
              "      <td>235</td>\n",
              "      <td>Climate change, water and food security - ODI...</td>\n",
              "      <td>odi background notes provide summary snapshot ...</td>\n",
              "      <td>Climate change, water and food security - ODI</td>\n",
              "      <td>IFRC</td>\n",
              "      <td>2009-03-11T09:04:07Z</td>\n",
              "      <td>https://www.odi.org/sites/odi.org.uk/files/odi...</td>\n",
              "    </tr>\n",
              "    <tr>\n",
              "      <th>214</th>\n",
              "      <td>236</td>\n",
              "      <td>236</td>\n",
              "      <td>Food Security and Nutrition Indicator Basics ...</td>\n",
              "      <td>level hunger decreased 27 millions people stil...</td>\n",
              "      <td>Food Security and Nutrition Indicator Basics</td>\n",
              "      <td>IFRC</td>\n",
              "      <td>2017-11-29T13:20:33Z</td>\n",
              "      <td>https://ifrcwatsanmissionassistant.files.wordp...</td>\n",
              "    </tr>\n",
              "    <tr>\n",
              "      <th>215</th>\n",
              "      <td>237</td>\n",
              "      <td>237</td>\n",
              "      <td>IFRS - Group, Report (new structure)   KPMG S...</td>\n",
              "      <td>ifrs group report new structure kpmg sa geneva...</td>\n",
              "      <td>IFRC Annual Report 2017</td>\n",
              "      <td>IFRC</td>\n",
              "      <td>2018-04-18T07:02:36Z</td>\n",
              "      <td>https://media.ifrc.org/ifrc/wp-content/uploads...</td>\n",
              "    </tr>\n",
              "    <tr>\n",
              "      <th>216</th>\n",
              "      <td>238</td>\n",
              "      <td>238</td>\n",
              "      <td>Background document about the Clusters and WA...</td>\n",
              "      <td>cluster leads identified nine areas activity u...</td>\n",
              "      <td>Background document about the Clusters and WAS...</td>\n",
              "      <td>IFRC</td>\n",
              "      <td>2008-03-28T08:12:19Z</td>\n",
              "      <td>https://ifrcwatsanmissionassistant.files.wordp...</td>\n",
              "    </tr>\n",
              "  </tbody>\n",
              "</table>\n",
              "<p>217 rows × 8 columns</p>\n",
              "</div>"
            ],
            "text/plain": [
              "     Unnamed: 0  ...                                                URL\n",
              "0             0  ...  https://www.who.int/healthpromotion/about/HPR%...\n",
              "1             1  ...  https://www.ifrc.org/Global/Publications/Healt...\n",
              "2             2  ...  https://www.ircwash.org/sites/default/files/Be...\n",
              "3             4  ...  http://www.ehproject.org/PDF/Joint_Publication...\n",
              "4             5  ...  https://www.ifrc.org/PageFiles/53503/1226403-I...\n",
              "..          ...  ...                                                ...\n",
              "212         234  ...  http://media.ifrc.org/ifrc/wp-content/uploads/...\n",
              "213         235  ...  https://www.odi.org/sites/odi.org.uk/files/odi...\n",
              "214         236  ...  https://ifrcwatsanmissionassistant.files.wordp...\n",
              "215         237  ...  https://media.ifrc.org/ifrc/wp-content/uploads...\n",
              "216         238  ...  https://ifrcwatsanmissionassistant.files.wordp...\n",
              "\n",
              "[217 rows x 8 columns]"
            ]
          },
          "metadata": {
            "tags": []
          },
          "execution_count": 13
        }
      ]
    },
    {
      "cell_type": "markdown",
      "metadata": {
        "id": "3BYQjQNzw0kw"
      },
      "source": [
        "### Model Building"
      ]
    },
    {
      "cell_type": "code",
      "metadata": {
        "colab": {
          "base_uri": "https://localhost:8080/"
        },
        "id": "7Xd-PHRAx144",
        "outputId": "e6a92e24-154f-4c72-90a5-741f1157cedf"
      },
      "source": [
        "!git clone https://github.com/deepset-ai/haystack.git\n",
        "%cd haystack\n",
        "!pip3 install --editable ."
      ],
      "execution_count": null,
      "outputs": [
        {
          "output_type": "stream",
          "text": [
            "Cloning into 'haystack'...\n",
            "remote: Enumerating objects: 72, done.\u001b[K\n",
            "remote: Counting objects: 100% (72/72), done.\u001b[K\n",
            "remote: Compressing objects: 100% (46/46), done.\u001b[K\n",
            "remote: Total 7021 (delta 35), reused 46 (delta 26), pack-reused 6949\u001b[K\n",
            "Receiving objects: 100% (7021/7021), 7.04 MiB | 27.42 MiB/s, done.\n",
            "Resolving deltas: 100% (4889/4889), done.\n",
            "/content/haystack\n",
            "Obtaining file:///content/haystack\n",
            "Collecting farm==0.5.0\n",
            "\u001b[?25l  Downloading https://files.pythonhosted.org/packages/a3/e4/2f47c850732a1d729e74add867e967f058370f29a313da05dc871ff8465e/farm-0.5.0-py3-none-any.whl (207kB)\n",
            "\u001b[K     |████████████████████████████████| 215kB 15.2MB/s \n",
            "\u001b[?25hCollecting fastapi\n",
            "\u001b[?25l  Downloading https://files.pythonhosted.org/packages/09/9b/e45a36554f7452f6d372e607a647c3827434f5b353ef4630a7432514c928/fastapi-0.62.0-py3-none-any.whl (49kB)\n",
            "\u001b[K     |████████████████████████████████| 51kB 7.8MB/s \n",
            "\u001b[?25hCollecting uvicorn\n",
            "\u001b[?25l  Downloading https://files.pythonhosted.org/packages/2e/68/c282156b7b2ecdc9035d49ccf7fd5dd1e6161ca23463a7c4f1c87a8b6222/uvicorn-0.13.0-py3-none-any.whl (45kB)\n",
            "\u001b[K     |████████████████████████████████| 51kB 8.7MB/s \n",
            "\u001b[?25hCollecting gunicorn\n",
            "\u001b[?25l  Downloading https://files.pythonhosted.org/packages/69/ca/926f7cd3a2014b16870086b2d0fdc84a9e49473c68a8dff8b57f7c156f43/gunicorn-20.0.4-py2.py3-none-any.whl (77kB)\n",
            "\u001b[K     |████████████████████████████████| 81kB 11.9MB/s \n",
            "\u001b[?25hRequirement already satisfied: pandas in /usr/local/lib/python3.6/dist-packages (from farm-haystack==0.5.0) (1.1.5)\n",
            "Requirement already satisfied: sklearn in /usr/local/lib/python3.6/dist-packages (from farm-haystack==0.5.0) (0.0)\n",
            "Collecting elasticsearch<=7.10,>=7.7\n",
            "\u001b[?25l  Downloading https://files.pythonhosted.org/packages/14/ba/f950bdd9164fb2bbbe5093700162234fbe61f446fe2300a8993761c132ca/elasticsearch-7.10.0-py2.py3-none-any.whl (321kB)\n",
            "\u001b[K     |████████████████████████████████| 327kB 13.6MB/s \n",
            "\u001b[?25hCollecting elastic-apm\n",
            "\u001b[?25l  Downloading https://files.pythonhosted.org/packages/27/c4/7bc90b3398198ea87f4316b739055f0319a0871415e561aceb4682e30a73/elastic_apm-5.10.0-cp36-cp36m-manylinux2010_x86_64.whl (318kB)\n",
            "\u001b[K     |████████████████████████████████| 327kB 40.6MB/s \n",
            "\u001b[?25hCollecting tox\n",
            "\u001b[?25l  Downloading https://files.pythonhosted.org/packages/e0/79/5915b9dad867e89bb6495456acfe5d4e2287e74dfa29c059f7b127d5480e/tox-3.20.1-py2.py3-none-any.whl (83kB)\n",
            "\u001b[K     |████████████████████████████████| 92kB 13.5MB/s \n",
            "\u001b[?25hRequirement already satisfied: coverage in /usr/local/lib/python3.6/dist-packages (from farm-haystack==0.5.0) (3.7.1)\n",
            "Collecting langdetect\n",
            "\u001b[?25l  Downloading https://files.pythonhosted.org/packages/56/a3/8407c1e62d5980188b4acc45ef3d94b933d14a2ebc9ef3505f22cf772570/langdetect-1.0.8.tar.gz (981kB)\n",
            "\u001b[K     |████████████████████████████████| 983kB 57.1MB/s \n",
            "\u001b[?25hCollecting python-multipart\n",
            "  Downloading https://files.pythonhosted.org/packages/46/40/a933ac570bf7aad12a298fc53458115cc74053474a72fbb8201d7dc06d3d/python-multipart-0.0.5.tar.gz\n",
            "Collecting python-docx\n",
            "\u001b[?25l  Downloading https://files.pythonhosted.org/packages/e4/83/c66a1934ed5ed8ab1dbb9931f1779079f8bca0f6bbc5793c06c4b5e7d671/python-docx-0.8.10.tar.gz (5.5MB)\n",
            "\u001b[K     |████████████████████████████████| 5.5MB 50.0MB/s \n",
            "\u001b[?25hCollecting sqlalchemy_utils\n",
            "\u001b[?25l  Downloading https://files.pythonhosted.org/packages/14/68/e5301c4c960c79a32333b8805e52cb69d3d237aa869a773b4157ccb3eb26/SQLAlchemy-Utils-0.36.8.tar.gz (138kB)\n",
            "\u001b[K     |████████████████████████████████| 143kB 51.1MB/s \n",
            "\u001b[?25hCollecting tika\n",
            "  Downloading https://files.pythonhosted.org/packages/96/07/244fbb9c74c0de8a3745cc9f3f496077a29f6418c7cbd90d68fd799574cb/tika-1.24.tar.gz\n",
            "Collecting httptools\n",
            "\u001b[?25l  Downloading https://files.pythonhosted.org/packages/b1/a6/dc1e7e8f4049ab70d52c9690ec10652e268ab2542853033cc1d539594102/httptools-0.1.1-cp36-cp36m-manylinux1_x86_64.whl (216kB)\n",
            "\u001b[K     |████████████████████████████████| 225kB 57.8MB/s \n",
            "\u001b[?25hRequirement already satisfied: nltk in /usr/local/lib/python3.6/dist-packages (from farm-haystack==0.5.0) (3.2.5)\n",
            "Requirement already satisfied: more_itertools in /usr/local/lib/python3.6/dist-packages (from farm-haystack==0.5.0) (8.6.0)\n",
            "Requirement already satisfied: networkx in /usr/local/lib/python3.6/dist-packages (from farm-haystack==0.5.0) (2.5)\n",
            "Collecting psycopg2-binary\n",
            "\u001b[?25l  Downloading https://files.pythonhosted.org/packages/f2/1b/720b36697158113ca1b2221a8e96a470088ccf3770d182214689d1a96a07/psycopg2_binary-2.8.6-cp36-cp36m-manylinux1_x86_64.whl (3.0MB)\n",
            "\u001b[K     |████████████████████████████████| 3.0MB 49.4MB/s \n",
            "\u001b[?25hCollecting faiss-cpu==1.6.3\n",
            "\u001b[?25l  Downloading https://files.pythonhosted.org/packages/1d/84/9de38703486d9f00b1a63590887a318d08c52f10f768968bd7626aee75da/faiss_cpu-1.6.3-cp36-cp36m-manylinux2010_x86_64.whl (7.2MB)\n",
            "\u001b[K     |████████████████████████████████| 7.2MB 44.7MB/s \n",
            "\u001b[?25hCollecting uvloop\n",
            "\u001b[?25l  Downloading https://files.pythonhosted.org/packages/41/48/586225bbb02d3bdca475b17e4be5ce5b3f09da2d6979f359916c1592a687/uvloop-0.14.0-cp36-cp36m-manylinux2010_x86_64.whl (3.9MB)\n",
            "\u001b[K     |████████████████████████████████| 3.9MB 43.7MB/s \n",
            "\u001b[?25hCollecting seqeval==0.0.12\n",
            "  Downloading https://files.pythonhosted.org/packages/34/91/068aca8d60ce56dd9ba4506850e876aba5e66a6f2f29aa223224b50df0de/seqeval-0.0.12.tar.gz\n",
            "Requirement already satisfied: scipy>=1.3.2 in /usr/local/lib/python3.6/dist-packages (from farm==0.5.0->farm-haystack==0.5.0) (1.4.1)\n",
            "Requirement already satisfied: dill in /usr/local/lib/python3.6/dist-packages (from farm==0.5.0->farm-haystack==0.5.0) (0.3.3)\n",
            "Collecting torch<1.7,>1.5\n",
            "\u001b[?25l  Downloading https://files.pythonhosted.org/packages/38/53/914885a93a44b96c0dd1c36f36ff10afe341f091230aad68f7228d61db1e/torch-1.6.0-cp36-cp36m-manylinux1_x86_64.whl (748.8MB)\n",
            "\u001b[K     |████████████████████████████████| 748.8MB 23kB/s \n",
            "\u001b[?25hRequirement already satisfied: requests in /usr/local/lib/python3.6/dist-packages (from farm==0.5.0->farm-haystack==0.5.0) (2.23.0)\n",
            "Requirement already satisfied: setuptools in /usr/local/lib/python3.6/dist-packages (from farm==0.5.0->farm-haystack==0.5.0) (50.3.2)\n",
            "Collecting dotmap==1.3.0\n",
            "  Downloading https://files.pythonhosted.org/packages/fa/eb/ee5f0358a9e0ede90308d8f34e697e122f191c2702dc4f614eca7770b1eb/dotmap-1.3.0-py3-none-any.whl\n",
            "Collecting boto3\n",
            "\u001b[?25l  Downloading https://files.pythonhosted.org/packages/00/65/a573dd1cc6ca76815f358f9e5be449221f4017a87b2e6b5ea970df28f94b/boto3-1.16.33-py2.py3-none-any.whl (129kB)\n",
            "\u001b[K     |████████████████████████████████| 133kB 53.6MB/s \n",
            "\u001b[?25hRequirement already satisfied: psutil in /usr/local/lib/python3.6/dist-packages (from farm==0.5.0->farm-haystack==0.5.0) (5.4.8)\n",
            "Collecting flask-cors\n",
            "  Downloading https://files.pythonhosted.org/packages/69/7f/d0aeaaafb5c3c76c8d2141dbe2d4f6dca5d6c31872d4e5349768c1958abc/Flask_Cors-3.0.9-py2.py3-none-any.whl\n",
            "Collecting flask-restplus\n",
            "\u001b[?25l  Downloading https://files.pythonhosted.org/packages/c2/a6/b17c848771f96ad039ad9e3ea275e842a16c39c4f3eb9f60ee330b20b6c2/flask_restplus-0.13.0-py2.py3-none-any.whl (2.5MB)\n",
            "\u001b[K     |████████████████████████████████| 2.5MB 46.5MB/s \n",
            "\u001b[?25hRequirement already satisfied: tqdm in /usr/local/lib/python3.6/dist-packages (from farm==0.5.0->farm-haystack==0.5.0) (4.41.1)\n",
            "Requirement already satisfied: wheel in /usr/local/lib/python3.6/dist-packages (from farm==0.5.0->farm-haystack==0.5.0) (0.36.1)\n",
            "Collecting transformers==3.3.1\n",
            "\u001b[?25l  Downloading https://files.pythonhosted.org/packages/19/22/aff234f4a841f8999e68a7a94bdd4b60b4cebcfeca5d67d61cd08c9179de/transformers-3.3.1-py3-none-any.whl (1.1MB)\n",
            "\u001b[K     |████████████████████████████████| 1.1MB 41.4MB/s \n",
            "\u001b[?25hRequirement already satisfied: flask in /usr/local/lib/python3.6/dist-packages (from farm==0.5.0->farm-haystack==0.5.0) (1.1.2)\n",
            "Collecting Werkzeug==0.16.1\n",
            "\u001b[?25l  Downloading https://files.pythonhosted.org/packages/c2/e4/a859d2fe516f466642fa5c6054fd9646271f9da26b0cac0d2f37fc858c8f/Werkzeug-0.16.1-py2.py3-none-any.whl (327kB)\n",
            "\u001b[K     |████████████████████████████████| 327kB 51.6MB/s \n",
            "\u001b[?25hCollecting mlflow==1.0.0\n",
            "\u001b[?25l  Downloading https://files.pythonhosted.org/packages/01/ec/8c9448968d4662e8354b9c3a62e635f8929ed507a45af3d9fdb84be51270/mlflow-1.0.0-py3-none-any.whl (47.7MB)\n",
            "\u001b[K     |████████████████████████████████| 47.7MB 54kB/s \n",
            "\u001b[?25hCollecting pydantic<2.0.0,>=1.0.0\n",
            "\u001b[?25l  Downloading https://files.pythonhosted.org/packages/52/ea/fae9f69b6e56407961318e8c73e203097a97c7bd71b30bf1b4f5eb448f28/pydantic-1.7.3-cp36-cp36m-manylinux2014_x86_64.whl (9.2MB)\n",
            "\u001b[K     |████████████████████████████████| 9.2MB 37.8MB/s \n",
            "\u001b[?25hCollecting starlette==0.13.6\n",
            "\u001b[?25l  Downloading https://files.pythonhosted.org/packages/c5/a4/c9e228d7d47044ce4c83ba002f28ff479e542455f0499198a3f77c94f564/starlette-0.13.6-py3-none-any.whl (59kB)\n",
            "\u001b[K     |████████████████████████████████| 61kB 9.2MB/s \n",
            "\u001b[?25hRequirement already satisfied: click==7.* in /usr/local/lib/python3.6/dist-packages (from uvicorn->farm-haystack==0.5.0) (7.1.2)\n",
            "Requirement already satisfied: typing-extensions; python_version < \"3.8\" in /usr/local/lib/python3.6/dist-packages (from uvicorn->farm-haystack==0.5.0) (3.7.4.3)\n",
            "Collecting h11>=0.8\n",
            "\u001b[?25l  Downloading https://files.pythonhosted.org/packages/b2/79/9c5f5cd738ec2a9b26453b3093915c0999f24454e2773921025c03b5509e/h11-0.11.0-py2.py3-none-any.whl (54kB)\n",
            "\u001b[K     |████████████████████████████████| 61kB 9.6MB/s \n",
            "\u001b[?25hRequirement already satisfied: numpy>=1.15.4 in /usr/local/lib/python3.6/dist-packages (from pandas->farm-haystack==0.5.0) (1.18.5)\n",
            "Requirement already satisfied: python-dateutil>=2.7.3 in /usr/local/lib/python3.6/dist-packages (from pandas->farm-haystack==0.5.0) (2.8.1)\n",
            "Requirement already satisfied: pytz>=2017.2 in /usr/local/lib/python3.6/dist-packages (from pandas->farm-haystack==0.5.0) (2018.9)\n",
            "Requirement already satisfied: scikit-learn in /usr/local/lib/python3.6/dist-packages (from sklearn->farm-haystack==0.5.0) (0.22.2.post1)\n",
            "Requirement already satisfied: certifi in /usr/local/lib/python3.6/dist-packages (from elasticsearch<=7.10,>=7.7->farm-haystack==0.5.0) (2020.12.5)\n",
            "Requirement already satisfied: urllib3<2,>=1.21.1 in /usr/local/lib/python3.6/dist-packages (from elasticsearch<=7.10,>=7.7->farm-haystack==0.5.0) (1.24.3)\n",
            "Collecting pluggy>=0.12.0\n",
            "  Downloading https://files.pythonhosted.org/packages/a0/28/85c7aa31b80d150b772fbe4a229487bc6644da9ccb7e427dd8cc60cb8a62/pluggy-0.13.1-py2.py3-none-any.whl\n",
            "Requirement already satisfied: toml>=0.9.4 in /usr/local/lib/python3.6/dist-packages (from tox->farm-haystack==0.5.0) (0.10.2)\n",
            "Requirement already satisfied: packaging>=14 in /usr/local/lib/python3.6/dist-packages (from tox->farm-haystack==0.5.0) (20.7)\n",
            "Collecting virtualenv!=20.0.0,!=20.0.1,!=20.0.2,!=20.0.3,!=20.0.4,!=20.0.5,!=20.0.6,!=20.0.7,>=16.0.0\n",
            "\u001b[?25l  Downloading https://files.pythonhosted.org/packages/1a/c6/bb564f5eec616d241e85d741f00a07f5f50ea12989022ad49bc66876993c/virtualenv-20.2.2-py2.py3-none-any.whl (5.7MB)\n",
            "\u001b[K     |████████████████████████████████| 5.7MB 46.6MB/s \n",
            "\u001b[?25hCollecting importlib-metadata<3,>=0.12; python_version < \"3.8\"\n",
            "  Downloading https://files.pythonhosted.org/packages/98/b8/8ec57a8ef46fbe7f185318c7ff7df9a06c9df451d9a59a067bfa851bb828/importlib_metadata-2.1.1-py2.py3-none-any.whl\n",
            "Requirement already satisfied: py>=1.4.17 in /usr/local/lib/python3.6/dist-packages (from tox->farm-haystack==0.5.0) (1.9.0)\n",
            "Requirement already satisfied: six>=1.14.0 in /usr/local/lib/python3.6/dist-packages (from tox->farm-haystack==0.5.0) (1.15.0)\n",
            "Requirement already satisfied: filelock>=3.0.0 in /usr/local/lib/python3.6/dist-packages (from tox->farm-haystack==0.5.0) (3.0.12)\n",
            "Requirement already satisfied: lxml>=2.3.2 in /usr/local/lib/python3.6/dist-packages (from python-docx->farm-haystack==0.5.0) (4.2.6)\n",
            "Requirement already satisfied: SQLAlchemy>=1.0 in /usr/local/lib/python3.6/dist-packages (from sqlalchemy_utils->farm-haystack==0.5.0) (1.3.20)\n",
            "Requirement already satisfied: decorator>=4.3.0 in /usr/local/lib/python3.6/dist-packages (from networkx->farm-haystack==0.5.0) (4.4.2)\n",
            "Requirement already satisfied: Keras>=2.2.4 in /usr/local/lib/python3.6/dist-packages (from seqeval==0.0.12->farm==0.5.0->farm-haystack==0.5.0) (2.4.3)\n",
            "Requirement already satisfied: future in /usr/local/lib/python3.6/dist-packages (from torch<1.7,>1.5->farm==0.5.0->farm-haystack==0.5.0) (0.16.0)\n",
            "Requirement already satisfied: chardet<4,>=3.0.2 in /usr/local/lib/python3.6/dist-packages (from requests->farm==0.5.0->farm-haystack==0.5.0) (3.0.4)\n",
            "Requirement already satisfied: idna<3,>=2.5 in /usr/local/lib/python3.6/dist-packages (from requests->farm==0.5.0->farm-haystack==0.5.0) (2.10)\n",
            "Collecting s3transfer<0.4.0,>=0.3.0\n",
            "\u001b[?25l  Downloading https://files.pythonhosted.org/packages/69/79/e6afb3d8b0b4e96cefbdc690f741d7dd24547ff1f94240c997a26fa908d3/s3transfer-0.3.3-py2.py3-none-any.whl (69kB)\n",
            "\u001b[K     |████████████████████████████████| 71kB 11.1MB/s \n",
            "\u001b[?25hCollecting jmespath<1.0.0,>=0.7.1\n",
            "  Downloading https://files.pythonhosted.org/packages/07/cb/5f001272b6faeb23c1c9e0acc04d48eaaf5c862c17709d20e3469c6e0139/jmespath-0.10.0-py2.py3-none-any.whl\n",
            "Collecting botocore<1.20.0,>=1.19.33\n",
            "\u001b[?25l  Downloading https://files.pythonhosted.org/packages/76/3e/5f64c7b492312069520d219ed56ce6b3d1821dab8251c18d25728578b58e/botocore-1.19.33-py2.py3-none-any.whl (7.0MB)\n",
            "\u001b[K     |████████████████████████████████| 7.0MB 41.6MB/s \n",
            "\u001b[?25hCollecting aniso8601>=0.82\n",
            "\u001b[?25l  Downloading https://files.pythonhosted.org/packages/93/4e/760c0aaf32034e2da98e1ac6d83b6ffc6d1301132af54c3950ee07785bfa/aniso8601-8.1.0-py2.py3-none-any.whl (44kB)\n",
            "\u001b[K     |████████████████████████████████| 51kB 9.0MB/s \n",
            "\u001b[?25hRequirement already satisfied: jsonschema in /usr/local/lib/python3.6/dist-packages (from flask-restplus->farm==0.5.0->farm-haystack==0.5.0) (2.6.0)\n",
            "Collecting tokenizers==0.8.1.rc2\n",
            "\u001b[?25l  Downloading https://files.pythonhosted.org/packages/80/83/8b9fccb9e48eeb575ee19179e2bdde0ee9a1904f97de5f02d19016b8804f/tokenizers-0.8.1rc2-cp36-cp36m-manylinux1_x86_64.whl (3.0MB)\n",
            "\u001b[K     |████████████████████████████████| 3.0MB 52.0MB/s \n",
            "\u001b[?25hCollecting sentencepiece!=0.1.92\n",
            "\u001b[?25l  Downloading https://files.pythonhosted.org/packages/e5/2d/6d4ca4bef9a67070fa1cac508606328329152b1df10bdf31fb6e4e727894/sentencepiece-0.1.94-cp36-cp36m-manylinux2014_x86_64.whl (1.1MB)\n",
            "\u001b[K     |████████████████████████████████| 1.1MB 51.3MB/s \n",
            "\u001b[?25hRequirement already satisfied: dataclasses; python_version < \"3.7\" in /usr/local/lib/python3.6/dist-packages (from transformers==3.3.1->farm==0.5.0->farm-haystack==0.5.0) (0.8)\n",
            "Collecting sacremoses\n",
            "\u001b[?25l  Downloading https://files.pythonhosted.org/packages/7d/34/09d19aff26edcc8eb2a01bed8e98f13a1537005d31e95233fd48216eed10/sacremoses-0.0.43.tar.gz (883kB)\n",
            "\u001b[K     |████████████████████████████████| 890kB 56.9MB/s \n",
            "\u001b[?25hRequirement already satisfied: regex!=2019.12.17 in /usr/local/lib/python3.6/dist-packages (from transformers==3.3.1->farm==0.5.0->farm-haystack==0.5.0) (2019.12.20)\n",
            "Requirement already satisfied: Jinja2>=2.10.1 in /usr/local/lib/python3.6/dist-packages (from flask->farm==0.5.0->farm-haystack==0.5.0) (2.11.2)\n",
            "Requirement already satisfied: itsdangerous>=0.24 in /usr/local/lib/python3.6/dist-packages (from flask->farm==0.5.0->farm-haystack==0.5.0) (1.1.0)\n",
            "Collecting docker>=3.6.0\n",
            "\u001b[?25l  Downloading https://files.pythonhosted.org/packages/ef/b7/eb7b7138bb5e6d28cf84fa586fe594619ca097b6207caa5f2ebe0c66a4ed/docker-4.4.0-py2.py3-none-any.whl (146kB)\n",
            "\u001b[K     |████████████████████████████████| 153kB 55.3MB/s \n",
            "\u001b[?25hCollecting querystring-parser\n",
            "  Downloading https://files.pythonhosted.org/packages/88/6b/572b2590fd55114118bf08bde63c0a421dcc82d593700f3e2ad89908a8a9/querystring_parser-1.2.4-py2.py3-none-any.whl\n",
            "Requirement already satisfied: pyyaml in /usr/local/lib/python3.6/dist-packages (from mlflow==1.0.0->farm==0.5.0->farm-haystack==0.5.0) (3.13)\n",
            "Requirement already satisfied: sqlparse in /usr/local/lib/python3.6/dist-packages (from mlflow==1.0.0->farm==0.5.0->farm-haystack==0.5.0) (0.4.1)\n",
            "Collecting alembic\n",
            "\u001b[?25l  Downloading https://files.pythonhosted.org/packages/12/aa/c261dfd7f4ba6ce4701846a2689a46e2a172e012171de4378fc2926e3bf0/alembic-1.4.3-py2.py3-none-any.whl (159kB)\n",
            "\u001b[K     |████████████████████████████████| 163kB 38.0MB/s \n",
            "\u001b[?25hRequirement already satisfied: protobuf>=3.6.0 in /usr/local/lib/python3.6/dist-packages (from mlflow==1.0.0->farm==0.5.0->farm-haystack==0.5.0) (3.12.4)\n",
            "Collecting gitpython>=2.1.0\n",
            "\u001b[?25l  Downloading https://files.pythonhosted.org/packages/24/d1/a7f8fe3df258549b303415157328bfcc63e9b11d06a7ad7a3327f3d32606/GitPython-3.1.11-py3-none-any.whl (159kB)\n",
            "\u001b[K     |████████████████████████████████| 163kB 55.6MB/s \n",
            "\u001b[?25hRequirement already satisfied: cloudpickle in /usr/local/lib/python3.6/dist-packages (from mlflow==1.0.0->farm==0.5.0->farm-haystack==0.5.0) (1.3.0)\n",
            "Collecting databricks-cli>=0.8.0\n",
            "\u001b[?25l  Downloading https://files.pythonhosted.org/packages/40/88/ae1f78cf582b707c605c77df49b4c8786a4465edc51adb25d2f98ef4c4de/databricks-cli-0.14.1.tar.gz (54kB)\n",
            "\u001b[K     |████████████████████████████████| 61kB 9.5MB/s \n",
            "\u001b[?25hCollecting simplejson\n",
            "\u001b[?25l  Downloading https://files.pythonhosted.org/packages/73/96/1e6b19045375890068d7342cbe280dd64ae73fd90b9735b5efb8d1e044a1/simplejson-3.17.2-cp36-cp36m-manylinux2010_x86_64.whl (127kB)\n",
            "\u001b[K     |████████████████████████████████| 133kB 55.2MB/s \n",
            "\u001b[?25hRequirement already satisfied: entrypoints in /usr/local/lib/python3.6/dist-packages (from mlflow==1.0.0->farm==0.5.0->farm-haystack==0.5.0) (0.3)\n",
            "Requirement already satisfied: joblib>=0.11 in /usr/local/lib/python3.6/dist-packages (from scikit-learn->sklearn->farm-haystack==0.5.0) (0.17.0)\n",
            "Requirement already satisfied: pyparsing>=2.0.2 in /usr/local/lib/python3.6/dist-packages (from packaging>=14->tox->farm-haystack==0.5.0) (2.4.7)\n",
            "Requirement already satisfied: importlib-resources>=1.0; python_version < \"3.7\" in /usr/local/lib/python3.6/dist-packages (from virtualenv!=20.0.0,!=20.0.1,!=20.0.2,!=20.0.3,!=20.0.4,!=20.0.5,!=20.0.6,!=20.0.7,>=16.0.0->tox->farm-haystack==0.5.0) (3.3.0)\n",
            "Collecting distlib<1,>=0.3.1\n",
            "\u001b[?25l  Downloading https://files.pythonhosted.org/packages/f5/0a/490fa011d699bb5a5f3a0cf57de82237f52a6db9d40f33c53b2736c9a1f9/distlib-0.3.1-py2.py3-none-any.whl (335kB)\n",
            "\u001b[K     |████████████████████████████████| 337kB 52.7MB/s \n",
            "\u001b[?25hCollecting appdirs<2,>=1.4.3\n",
            "  Downloading https://files.pythonhosted.org/packages/3b/00/2344469e2084fb287c2e0b57b72910309874c3245463acd6cf5e3db69324/appdirs-1.4.4-py2.py3-none-any.whl\n",
            "Requirement already satisfied: zipp>=0.5 in /usr/local/lib/python3.6/dist-packages (from importlib-metadata<3,>=0.12; python_version < \"3.8\"->tox->farm-haystack==0.5.0) (3.4.0)\n",
            "Requirement already satisfied: h5py in /usr/local/lib/python3.6/dist-packages (from Keras>=2.2.4->seqeval==0.0.12->farm==0.5.0->farm-haystack==0.5.0) (2.10.0)\n",
            "Requirement already satisfied: MarkupSafe>=0.23 in /usr/local/lib/python3.6/dist-packages (from Jinja2>=2.10.1->flask->farm==0.5.0->farm-haystack==0.5.0) (1.1.1)\n",
            "Collecting websocket-client>=0.32.0\n",
            "\u001b[?25l  Downloading https://files.pythonhosted.org/packages/4c/5f/f61b420143ed1c8dc69f9eaec5ff1ac36109d52c80de49d66e0c36c3dfdf/websocket_client-0.57.0-py2.py3-none-any.whl (200kB)\n",
            "\u001b[K     |████████████████████████████████| 204kB 57.7MB/s \n",
            "\u001b[?25hCollecting python-editor>=0.3\n",
            "  Downloading https://files.pythonhosted.org/packages/c6/d3/201fc3abe391bbae6606e6f1d598c15d367033332bd54352b12f35513717/python_editor-1.0.4-py3-none-any.whl\n",
            "Collecting Mako\n",
            "\u001b[?25l  Downloading https://files.pythonhosted.org/packages/a6/37/0e706200d22172eb8fa17d68a7ae22dec7631a0a92266634fb518a88a5b2/Mako-1.1.3-py2.py3-none-any.whl (75kB)\n",
            "\u001b[K     |████████████████████████████████| 81kB 11.3MB/s \n",
            "\u001b[?25hCollecting gitdb<5,>=4.0.1\n",
            "\u001b[?25l  Downloading https://files.pythonhosted.org/packages/48/11/d1800bca0a3bae820b84b7d813ad1eff15a48a64caea9c823fc8c1b119e8/gitdb-4.0.5-py3-none-any.whl (63kB)\n",
            "\u001b[K     |████████████████████████████████| 71kB 11.4MB/s \n",
            "\u001b[?25hRequirement already satisfied: tabulate>=0.7.7 in /usr/local/lib/python3.6/dist-packages (from databricks-cli>=0.8.0->mlflow==1.0.0->farm==0.5.0->farm-haystack==0.5.0) (0.8.7)\n",
            "Collecting smmap<4,>=3.0.1\n",
            "  Downloading https://files.pythonhosted.org/packages/b0/9a/4d409a6234eb940e6a78dfdfc66156e7522262f5f2fecca07dc55915952d/smmap-3.0.4-py2.py3-none-any.whl\n",
            "Building wheels for collected packages: langdetect, python-multipart, python-docx, sqlalchemy-utils, tika, seqeval, sacremoses, databricks-cli\n",
            "  Building wheel for langdetect (setup.py) ... \u001b[?25l\u001b[?25hdone\n",
            "  Created wheel for langdetect: filename=langdetect-1.0.8-cp36-none-any.whl size=993193 sha256=becf8520afcc178b8fcea6315229787df82415773f62e9b252fca255fa4a4aeb\n",
            "  Stored in directory: /root/.cache/pip/wheels/8d/b3/aa/6d99de9f3841d7d3d40a60ea06e6d669e8e5012e6c8b947a57\n",
            "  Building wheel for python-multipart (setup.py) ... \u001b[?25l\u001b[?25hdone\n",
            "  Created wheel for python-multipart: filename=python_multipart-0.0.5-cp36-none-any.whl size=31671 sha256=e0b2bedbe23819a5894ddb7067f378743d147e64420a15cb47e0ed929f2769ad\n",
            "  Stored in directory: /root/.cache/pip/wheels/f0/e6/66/14a866a3cbd6a0cabfbef91f7edf40aa03595ef6c88d6d1be4\n",
            "  Building wheel for python-docx (setup.py) ... \u001b[?25l\u001b[?25hdone\n",
            "  Created wheel for python-docx: filename=python_docx-0.8.10-cp36-none-any.whl size=184491 sha256=5035dca7c3ff3695ae23c4e3fa69570acc5ef2889e56fd1aabea3daacc99680a\n",
            "  Stored in directory: /root/.cache/pip/wheels/18/0b/a0/1dd62ff812c857c9e487f27d80d53d2b40531bec1acecfa47b\n",
            "  Building wheel for sqlalchemy-utils (setup.py) ... \u001b[?25l\u001b[?25hdone\n",
            "  Created wheel for sqlalchemy-utils: filename=SQLAlchemy_Utils-0.36.8-py2.py3-none-any.whl size=93219 sha256=8b5859df3dcc0f0f2bd57672f3375c37253d7154f479aaade5e7083e76b2b213\n",
            "  Stored in directory: /root/.cache/pip/wheels/68/31/b6/a96bf6868f42753696d647846c9a0f8e51bd99295790d07660\n",
            "  Building wheel for tika (setup.py) ... \u001b[?25l\u001b[?25hdone\n",
            "  Created wheel for tika: filename=tika-1.24-cp36-none-any.whl size=32885 sha256=3494a630fc84f4c9adde3d531638bfe86d62833eb4572ee16b7cef585c8571a0\n",
            "  Stored in directory: /root/.cache/pip/wheels/73/9c/f5/0b1b738442fc2a2862bef95b908b374f8e80215550fb2a8975\n",
            "  Building wheel for seqeval (setup.py) ... \u001b[?25l\u001b[?25hdone\n",
            "  Created wheel for seqeval: filename=seqeval-0.0.12-cp36-none-any.whl size=7424 sha256=049b21e0017bf3b7f800302242e563ba14101264f33d34b8223eab666a373e6f\n",
            "  Stored in directory: /root/.cache/pip/wheels/4f/32/0a/df3b340a82583566975377d65e724895b3fad101a3fb729f68\n",
            "  Building wheel for sacremoses (setup.py) ... \u001b[?25l\u001b[?25hdone\n",
            "  Created wheel for sacremoses: filename=sacremoses-0.0.43-cp36-none-any.whl size=893261 sha256=16d44103b70ed26f14bb8adb178a203c12ffe430210a4b7855b9b5c6ec2e955c\n",
            "  Stored in directory: /root/.cache/pip/wheels/29/3c/fd/7ce5c3f0666dab31a50123635e6fb5e19ceb42ce38d4e58f45\n",
            "  Building wheel for databricks-cli (setup.py) ... \u001b[?25l\u001b[?25hdone\n",
            "  Created wheel for databricks-cli: filename=databricks_cli-0.14.1-cp36-none-any.whl size=100579 sha256=39b96b43fe83b451f6df3c0515687cf16f5a5a079fdb615a97c626dedf99db74\n",
            "  Stored in directory: /root/.cache/pip/wheels/82/91/ac/5d417ee5ccbb76c8cca096cf4cfb9ed9d49d889d1d1ca0fc39\n",
            "Successfully built langdetect python-multipart python-docx sqlalchemy-utils tika seqeval sacremoses databricks-cli\n",
            "\u001b[31mERROR: torchvision 0.8.1+cu101 has requirement torch==1.7.0, but you'll have torch 1.6.0 which is incompatible.\u001b[0m\n",
            "\u001b[31mERROR: pytest 3.6.4 has requirement pluggy<0.8,>=0.5, but you'll have pluggy 0.13.1 which is incompatible.\u001b[0m\n",
            "\u001b[31mERROR: datascience 0.10.6 has requirement folium==0.2.1, but you'll have folium 0.8.3 which is incompatible.\u001b[0m\n",
            "\u001b[31mERROR: botocore 1.19.33 has requirement urllib3<1.27,>=1.25.4; python_version != \"3.4\", but you'll have urllib3 1.24.3 which is incompatible.\u001b[0m\n",
            "Installing collected packages: seqeval, torch, dotmap, jmespath, botocore, s3transfer, boto3, flask-cors, aniso8601, flask-restplus, tokenizers, sentencepiece, sacremoses, transformers, Werkzeug, websocket-client, docker, querystring-parser, python-editor, Mako, alembic, smmap, gitdb, gitpython, gunicorn, databricks-cli, simplejson, mlflow, farm, pydantic, starlette, fastapi, h11, uvicorn, elasticsearch, elastic-apm, importlib-metadata, pluggy, distlib, appdirs, virtualenv, tox, langdetect, python-multipart, python-docx, sqlalchemy-utils, tika, httptools, psycopg2-binary, faiss-cpu, uvloop, farm-haystack\n",
            "  Found existing installation: torch 1.7.0+cu101\n",
            "    Uninstalling torch-1.7.0+cu101:\n",
            "      Successfully uninstalled torch-1.7.0+cu101\n",
            "  Found existing installation: Werkzeug 1.0.1\n",
            "    Uninstalling Werkzeug-1.0.1:\n",
            "      Successfully uninstalled Werkzeug-1.0.1\n",
            "  Found existing installation: importlib-metadata 3.1.1\n",
            "    Uninstalling importlib-metadata-3.1.1:\n",
            "      Successfully uninstalled importlib-metadata-3.1.1\n",
            "  Found existing installation: pluggy 0.7.1\n",
            "    Uninstalling pluggy-0.7.1:\n",
            "      Successfully uninstalled pluggy-0.7.1\n",
            "  Running setup.py develop for farm-haystack\n",
            "Successfully installed Mako-1.1.3 Werkzeug-0.16.1 alembic-1.4.3 aniso8601-8.1.0 appdirs-1.4.4 boto3-1.16.33 botocore-1.19.33 databricks-cli-0.14.1 distlib-0.3.1 docker-4.4.0 dotmap-1.3.0 elastic-apm-5.10.0 elasticsearch-7.10.0 faiss-cpu-1.6.3 farm-0.5.0 farm-haystack fastapi-0.62.0 flask-cors-3.0.9 flask-restplus-0.13.0 gitdb-4.0.5 gitpython-3.1.11 gunicorn-20.0.4 h11-0.11.0 httptools-0.1.1 importlib-metadata-2.1.1 jmespath-0.10.0 langdetect-1.0.8 mlflow-1.0.0 pluggy-0.13.1 psycopg2-binary-2.8.6 pydantic-1.7.3 python-docx-0.8.10 python-editor-1.0.4 python-multipart-0.0.5 querystring-parser-1.2.4 s3transfer-0.3.3 sacremoses-0.0.43 sentencepiece-0.1.94 seqeval-0.0.12 simplejson-3.17.2 smmap-3.0.4 sqlalchemy-utils-0.36.8 starlette-0.13.6 tika-1.24 tokenizers-0.8.1rc2 torch-1.6.0 tox-3.20.1 transformers-3.3.1 uvicorn-0.13.0 uvloop-0.14.0 virtualenv-20.2.2 websocket-client-0.57.0\n"
          ],
          "name": "stdout"
        }
      ]
    },
    {
      "cell_type": "code",
      "metadata": {
        "colab": {
          "base_uri": "https://localhost:8080/"
        },
        "id": "tnE9oNofyDp1",
        "outputId": "118f404a-a0e4-4e1c-87c5-cd178d63904b"
      },
      "source": [
        "from haystack import Finder\n",
        "from haystack.preprocessor.cleaning import clean_wiki_text\n",
        "from haystack.preprocessor.utils import convert_files_to_dicts, fetch_archive_from_http\n",
        "from haystack.reader.farm import FARMReader\n",
        "from haystack.reader.transformers import TransformersReader\n",
        "from haystack.utils import print_answers"
      ],
      "execution_count": null,
      "outputs": [
        {
          "output_type": "stream",
          "text": [
            "12/10/2020 20:31:56 - INFO - faiss -   Loading faiss with AVX2 support.\n",
            "12/10/2020 20:31:56 - INFO - faiss -   Loading faiss.\n"
          ],
          "name": "stderr"
        }
      ]
    },
    {
      "cell_type": "code",
      "metadata": {
        "id": "m9Iu9URyyRFf"
      },
      "source": [
        "! wget https://artifacts.elastic.co/downloads/elasticsearch/elasticsearch-7.6.2-linux-x86_64.tar.gz -q\n",
        "! tar -xzf elasticsearch-7.6.2-linux-x86_64.tar.gz\n",
        "! chown -R daemon:daemon elasticsearch-7.6.2\n",
        "\n",
        "import os\n",
        "from subprocess import Popen, PIPE, STDOUT\n",
        "es_server = Popen(['elasticsearch-7.6.2/bin/elasticsearch'],\n",
        "                   stdout=PIPE, stderr=STDOUT,\n",
        "                   preexec_fn=lambda: os.setuid(1)  # as daemon\n",
        "                  )\n",
        "# wait until ES has started\n",
        "! sleep 30"
      ],
      "execution_count": null,
      "outputs": []
    },
    {
      "cell_type": "code",
      "metadata": {
        "colab": {
          "base_uri": "https://localhost:8080/"
        },
        "id": "Z2pjv_3hybJt",
        "outputId": "90b1053b-1f5b-4b5a-c0e8-f26921764d0c"
      },
      "source": [
        "from haystack.document_store.elasticsearch import ElasticsearchDocumentStore\n",
        "document_store = ElasticsearchDocumentStore(host=\"localhost\", username=\"shivika@icatalysts.net\", password=\"MasterChariji1*\", index=\"document\")"
      ],
      "execution_count": null,
      "outputs": [
        {
          "output_type": "stream",
          "text": [
            "12/10/2020 20:35:21 - INFO - elasticsearch -   HEAD http://localhost:9200/document [status:200 request:0.103s]\n",
            "12/10/2020 20:35:21 - INFO - elasticsearch -   GET http://localhost:9200/document [status:200 request:0.011s]\n",
            "12/10/2020 20:35:21 - INFO - elasticsearch -   PUT http://localhost:9200/document/_mapping [status:200 request:0.068s]\n",
            "12/10/2020 20:35:21 - INFO - elasticsearch -   HEAD http://localhost:9200/label [status:200 request:0.008s]\n"
          ],
          "name": "stderr"
        }
      ]
    },
    {
      "cell_type": "code",
      "metadata": {
        "colab": {
          "base_uri": "https://localhost:8080/"
        },
        "id": "MXVHW0q8z9CK",
        "outputId": "1e76f802-1249-4aaf-9d3b-5090d4509dba"
      },
      "source": [
        "document_store.write_documents(df[['Title', 'summary', 'URL']].rename(columns={'Title':'name','summary':'text', 'URL': 'URL'}).to_dict(orient='records'))"
      ],
      "execution_count": null,
      "outputs": [
        {
          "output_type": "stream",
          "text": [
            "12/10/2020 20:35:23 - INFO - elasticsearch -   POST http://localhost:9200/_bulk?refresh=wait_for [status:200 request:1.265s]\n"
          ],
          "name": "stderr"
        }
      ]
    },
    {
      "cell_type": "code",
      "metadata": {
        "colab": {
          "base_uri": "https://localhost:8080/"
        },
        "id": "l6X3szSL2yDt",
        "outputId": "28f79bb5-b0a1-4d1e-b873-ffb6804c1c14"
      },
      "source": [
        "reader = FARMReader(model_name_or_path=\"deepset/roberta-base-squad2-covid\", use_gpu=True, context_window_size=1000)"
      ],
      "execution_count": null,
      "outputs": [
        {
          "output_type": "stream",
          "text": [
            "12/10/2020 20:35:23 - INFO - farm.utils -   device: cpu n_gpu: 0, distributed training: False, automatic mixed precision training: None\n",
            "12/10/2020 20:35:23 - INFO - farm.infer -   Could not find `deepset/roberta-base-squad2-covid` locally. Try to download from model hub ...\n",
            "12/10/2020 20:35:27 - WARNING - farm.modeling.language_model -   Could not automatically detect from language model name what language it is. \n",
            "\t We guess it's an *ENGLISH* model ... \n",
            "\t If not: Init the language model by supplying the 'language' param.\n",
            "12/10/2020 20:35:31 - INFO - farm.utils -   device: cpu n_gpu: 0, distributed training: False, automatic mixed precision training: None\n",
            "12/10/2020 20:35:31 - INFO - farm.infer -   Got ya 1 parallel workers to do inference ...\n",
            "12/10/2020 20:35:31 - INFO - farm.infer -    0 \n",
            "12/10/2020 20:35:31 - INFO - farm.infer -   /w\\\n",
            "12/10/2020 20:35:31 - INFO - farm.infer -   /'\\\n",
            "12/10/2020 20:35:31 - INFO - farm.infer -   \n"
          ],
          "name": "stderr"
        }
      ]
    },
    {
      "cell_type": "code",
      "metadata": {
        "id": "aWJMEGcQ3lhd"
      },
      "source": [
        "from haystack.retriever.sparse import ElasticsearchRetriever\n",
        "retriever = ElasticsearchRetriever(document_store=document_store)"
      ],
      "execution_count": null,
      "outputs": []
    },
    {
      "cell_type": "code",
      "metadata": {
        "colab": {
          "base_uri": "https://localhost:8080/",
          "height": 164
        },
        "id": "Tj89jBePGeit",
        "outputId": "7ec8869b-3b47-4cf6-ff6f-69bfc037c884"
      },
      "source": [
        "# x = retriever.eval(top_k_retrieval=10)"
      ],
      "execution_count": null,
      "outputs": [
        {
          "output_type": "error",
          "ename": "TypeError",
          "evalue": "ignored",
          "traceback": [
            "\u001b[0;31m---------------------------------------------------------------------------\u001b[0m",
            "\u001b[0;31mTypeError\u001b[0m                                 Traceback (most recent call last)",
            "\u001b[0;32m<ipython-input-21-a0fcb491b3a0>\u001b[0m in \u001b[0;36m<module>\u001b[0;34m()\u001b[0m\n\u001b[0;32m----> 1\u001b[0;31m \u001b[0mx\u001b[0m \u001b[0;34m=\u001b[0m \u001b[0mretriever\u001b[0m\u001b[0;34m.\u001b[0m\u001b[0meval\u001b[0m\u001b[0;34m(\u001b[0m\u001b[0mtop_k_retrieval\u001b[0m\u001b[0;34m=\u001b[0m\u001b[0;36m10\u001b[0m\u001b[0;34m)\u001b[0m\u001b[0;34m\u001b[0m\u001b[0;34m\u001b[0m\u001b[0m\n\u001b[0m",
            "\u001b[0;31mTypeError\u001b[0m: eval() got an unexpected keyword argument 'top_k_retrieval'"
          ]
        }
      ]
    },
    {
      "cell_type": "code",
      "metadata": {
        "colab": {
          "base_uri": "https://localhost:8080/"
        },
        "id": "U5EDuE1Q3SLT",
        "outputId": "46c6a24a-9a3c-430a-f938-9f412b55e1a7"
      },
      "source": [
        "finder = Finder(reader, retriever)"
      ],
      "execution_count": null,
      "outputs": [
        {
          "output_type": "stream",
          "text": [
            "12/10/2020 20:35:31 - WARNING - haystack.finder -   DEPRECATION WARNINGS: \n",
            "            1. The 'Finder' class will be deprecated in the next Haystack release in \n",
            "            favour of a new `Pipeline` class that supports building custom search pipelines using Haystack components\n",
            "            including Retriever, Readers, and Generators.\n",
            "            For more details, please refer to the issue: https://github.com/deepset-ai/haystack/issues/544\n",
            "            2. The `question` parameter in search requests & results is renamed to `query`.\n"
          ],
          "name": "stderr"
        }
      ]
    },
    {
      "cell_type": "code",
      "metadata": {
        "colab": {
          "base_uri": "https://localhost:8080/"
        },
        "id": "np0HUr5H3bKI",
        "outputId": "f6e6787a-57fa-4eb0-92a7-ce54f6c51103"
      },
      "source": [
        "question = \"water sanitation\"\n",
        "number_of_answers_to_fetch = 2\n",
        "\n",
        "prediction = finder.get_answers(question=question, top_k_retriever=10, top_k_reader=number_of_answers_to_fetch)\n",
        "print(f\"Question: {prediction['question']}\")\n",
        "print(\"\\n\")\n",
        "for i in range(number_of_answers_to_fetch):\n",
        "    print(f\"#{i+1}\")\n",
        "    print(f\"Answer: {prediction['answers'][i]['answer']}\")\n",
        "    print(f\"Research Paper: {prediction['answers'][i]['meta']['name']}\")\n",
        "    print(f\"Context: {prediction['answers'][i]['context']}\")\n",
        "    print('\\n\\n')"
      ],
      "execution_count": null,
      "outputs": [
        {
          "output_type": "stream",
          "text": [
            "12/10/2020 20:35:31 - WARNING - haystack.finder -   DEPRECATION WARNINGS: \n",
            "            1. The 'Finder' class will be deprecated in the next Haystack release in \n",
            "            favour of a new `Pipeline` class that supports building custom search pipelines using Haystack components\n",
            "            including Retriever, Readers, and Generators.\n",
            "            For more details, please refer to the issue: https://github.com/deepset-ai/haystack/issues/544\n",
            "            2. The `question` parameter in search requests & results is renamed to `query`.\n",
            "12/10/2020 20:35:31 - INFO - elasticsearch -   POST http://localhost:9200/document/_search [status:200 request:0.124s]\n",
            "12/10/2020 20:35:32 - INFO - haystack.finder -   Got 10 candidates from retriever\n",
            "12/10/2020 20:35:32 - INFO - haystack.finder -   Reader is looking for detailed answer in 57902 chars ...\n",
            "Inferencing Samples: 100%|██████████| 1/1 [00:09<00:00,  9.35s/ Batches]\n",
            "Inferencing Samples: 100%|██████████| 1/1 [00:08<00:00,  8.21s/ Batches]\n",
            "Inferencing Samples: 100%|██████████| 1/1 [00:06<00:00,  6.71s/ Batches]\n",
            "Inferencing Samples: 100%|██████████| 1/1 [00:06<00:00,  6.82s/ Batches]\n",
            "Inferencing Samples: 100%|██████████| 1/1 [00:01<00:00,  1.53s/ Batches]\n",
            "Inferencing Samples: 100%|██████████| 1/1 [00:01<00:00,  1.53s/ Batches]\n",
            "Inferencing Samples: 100%|██████████| 1/1 [00:03<00:00,  3.05s/ Batches]\n",
            "Inferencing Samples: 100%|██████████| 1/1 [00:03<00:00,  3.04s/ Batches]\n",
            "Inferencing Samples: 100%|██████████| 1/1 [00:04<00:00,  4.47s/ Batches]\n",
            "Inferencing Samples: 100%|██████████| 1/1 [00:04<00:00,  4.55s/ Batches]"
          ],
          "name": "stderr"
        },
        {
          "output_type": "stream",
          "text": [
            "Question: water sanitation\n",
            "\n",
            "\n",
            "#1\n",
            "Answer: however\n",
            "Research Paper: Uganda Gender and Sanitation and Hygiene _GWA\n",
            "Context: n views siting type structure access collected realize objective structures described put place mobilization implementation national guidelines sanitation spell roles groups requires follow sensitization ngos focussed approach gender mainstreaming projects end organization urges partners employ women staff specifically address sanitation hygiene issues women wilson p 2000 reports one partners wateraid gender unit others defined gender social objectives relation water sanitation work reported however genders gap representation decisionmaking power still persists especially communities deeply rooted cultural based gender biases conclusions enabling environment put place good starting point gender mainstreaming uganda gender sanitation hygiene gwadoc 17 mechanisms place promote gender longterm basis also routine whole organisation community level implementation structures constituted provision incorporation best practices lessons learnt therefore gender balance gender responsive approache\n",
            "\n",
            "\n",
            "\n",
            "#2\n",
            "Answer: however\n",
            "Research Paper: Uganda Gender and Sanitation and Hygiene _GWA\n",
            "Context: n views siting type structure access collected realize objective structures described put place mobilization implementation national guidelines sanitation spell roles groups requires follow sensitization ngos focussed approach gender mainstreaming projects end organization urges partners employ women staff specifically address sanitation hygiene issues women wilson p 2000 reports one partners wateraid gender unit others defined gender social objectives relation water sanitation work reported however genders gap representation decisionmaking power still persists especially communities deeply rooted cultural based gender biases conclusions enabling environment put place good starting point gender mainstreaming uganda gender sanitation hygiene gwadoc 17 mechanisms place promote gender longterm basis also routine whole organisation community level implementation structures constituted provision incorporation best practices lessons learnt therefore gender balance gender responsive approache\n",
            "\n",
            "\n",
            "\n"
          ],
          "name": "stdout"
        },
        {
          "output_type": "stream",
          "text": [
            "\n"
          ],
          "name": "stderr"
        }
      ]
    },
    {
      "cell_type": "code",
      "metadata": {
        "colab": {
          "base_uri": "https://localhost:8080/",
          "height": 640
        },
        "id": "WfTQJIRp4qGQ",
        "outputId": "609a508e-7ace-48e0-bab3-6ead3c2125ab"
      },
      "source": [
        "question2 = \"audit water safety plans\"\n",
        "number_of_answers_to_fetch2 = 2\n",
        "\n",
        "prediction2 = finder.get_answers(question=question2, top_k_retriever=10, top_k_reader=number_of_answers_to_fetch2)\n",
        "print(f\"Question: {prediction2['question']}\")\n",
        "print(\"\\n\")\n",
        "for i in range(number_of_answers_to_fetch2):\n",
        "    print(f\"#{i+1}\")\n",
        "    print(f\"Answer: {prediction2['answers'][i]['answer']}\")\n",
        "    print(f\"Research Paper: {prediction2['answers'][i]['meta']['name']}\")\n",
        "    print(f\"Context: {prediction2['answers'][i]['context']}\")\n",
        "    print('\\n\\n')"
      ],
      "execution_count": null,
      "outputs": [
        {
          "output_type": "stream",
          "text": [
            "12/08/2020 01:46:22 - WARNING - haystack.finder -   DEPRECATION WARNINGS: \n",
            "            1. The 'Finder' class will be deprecated in the next Haystack release in \n",
            "            favour of a new `Pipeline` class that supports building custom search pipelines using Haystack components\n",
            "            including Retriever, Readers, and Generators.\n",
            "            For more details, please refer to the issue: https://github.com/deepset-ai/haystack/issues/544\n",
            "            2. The `question` parameter in search requests & results is renamed to `query`.\n",
            "12/08/2020 01:46:22 - INFO - elasticsearch -   POST http://localhost:9200/document/_search [status:200 request:0.039s]\n",
            "12/08/2020 01:46:22 - INFO - haystack.finder -   Got 10 candidates from retriever\n",
            "12/08/2020 01:46:22 - INFO - haystack.finder -   Reader is looking for detailed answer in 946642 chars ...\n",
            "Inferencing Samples: 100%|██████████| 4/4 [02:06<00:00, 31.63s/ Batches]\n",
            "Inferencing Samples: 100%|██████████| 1/1 [00:10<00:00, 10.63s/ Batches]\n",
            "Inferencing Samples: 100%|██████████| 3/3 [01:32<00:00, 30.85s/ Batches]\n",
            "Inferencing Samples: 100%|██████████| 1/1 [00:04<00:00,  4.45s/ Batches]\n",
            "Inferencing Samples: 100%|██████████| 7/7 [03:27<00:00, 29.70s/ Batches]\n",
            "Inferencing Samples: 100%|██████████| 1/1 [00:17<00:00, 17.37s/ Batches]\n",
            "Inferencing Samples: 100%|██████████| 1/1 [00:12<00:00, 12.74s/ Batches]\n",
            "Inferencing Samples: 100%|██████████| 3/3 [01:30<00:00, 30.26s/ Batches]\n",
            "Inferencing Samples: 100%|██████████| 3/3 [01:30<00:00, 30.20s/ Batches]\n",
            "Inferencing Samples: 100%|██████████| 4/4 [01:41<00:00, 25.35s/ Batches]"
          ],
          "name": "stderr"
        },
        {
          "output_type": "stream",
          "text": [
            "Question: audit water safety plans\n",
            "\n",
            "\n",
            "#1\n",
            "Answer: decreased global equity funds\n"
          ],
          "name": "stdout"
        },
        {
          "output_type": "stream",
          "text": [
            "\n"
          ],
          "name": "stderr"
        },
        {
          "output_type": "error",
          "ename": "KeyError",
          "evalue": "ignored",
          "traceback": [
            "\u001b[0;31m---------------------------------------------------------------------------\u001b[0m",
            "\u001b[0;31mKeyError\u001b[0m                                  Traceback (most recent call last)",
            "\u001b[0;32m<ipython-input-43-fae6edaf993b>\u001b[0m in \u001b[0;36m<module>\u001b[0;34m()\u001b[0m\n\u001b[1;32m      8\u001b[0m     \u001b[0mprint\u001b[0m\u001b[0;34m(\u001b[0m\u001b[0;34mf\"#{i+1}\"\u001b[0m\u001b[0;34m)\u001b[0m\u001b[0;34m\u001b[0m\u001b[0;34m\u001b[0m\u001b[0m\n\u001b[1;32m      9\u001b[0m     \u001b[0mprint\u001b[0m\u001b[0;34m(\u001b[0m\u001b[0;34mf\"Answer: {prediction2['answers'][i]['answer']}\"\u001b[0m\u001b[0;34m)\u001b[0m\u001b[0;34m\u001b[0m\u001b[0;34m\u001b[0m\u001b[0m\n\u001b[0;32m---> 10\u001b[0;31m     \u001b[0mprint\u001b[0m\u001b[0;34m(\u001b[0m\u001b[0;34mf\"Research Paper: {prediction2['answers'][i]['meta']['name']}\"\u001b[0m\u001b[0;34m)\u001b[0m\u001b[0;34m\u001b[0m\u001b[0;34m\u001b[0m\u001b[0m\n\u001b[0m\u001b[1;32m     11\u001b[0m     \u001b[0mprint\u001b[0m\u001b[0;34m(\u001b[0m\u001b[0;34mf\"Context: {prediction2['answers'][i]['context']}\"\u001b[0m\u001b[0;34m)\u001b[0m\u001b[0;34m\u001b[0m\u001b[0;34m\u001b[0m\u001b[0m\n\u001b[1;32m     12\u001b[0m     \u001b[0mprint\u001b[0m\u001b[0;34m(\u001b[0m\u001b[0;34m'\\n\\n'\u001b[0m\u001b[0;34m)\u001b[0m\u001b[0;34m\u001b[0m\u001b[0;34m\u001b[0m\u001b[0m\n",
            "\u001b[0;31mKeyError\u001b[0m: 'name'"
          ]
        }
      ]
    },
    {
      "cell_type": "code",
      "metadata": {
        "colab": {
          "base_uri": "https://localhost:8080/"
        },
        "id": "WX8sUcLGEwRY",
        "outputId": "8cf99e7f-c96a-474e-f88e-c0e4f89742ae"
      },
      "source": [
        "prediction2"
      ],
      "execution_count": null,
      "outputs": [
        {
          "output_type": "execute_result",
          "data": {
            "text/plain": [
              "{'answers': [{'answer': 'decreased global equity funds',\n",
              "   'context': 'nes equity investments held global equity trust fund listed equity trust fund invests actively traded equity securities mirror listed msci world index equity investments classified fair value profit loss 5 increase msci world index reporting date would increased global equity funds investment increased net surplus result increased total comprehensive income year chf 1250k 2015 chf 1141k reduction net deficit increase total comprehensive income equal change opposite direction would decreased global equity funds investment decreased net surplus result total comprehensive income year chf 1250k 2015 chf 1141k increase net deficit reduction total comprehensive income global bond fund investment classified fair value profit loss held listed fund indexed citigroup world government bonds index 5 increase index reporting date would increased global bond fund investment increased net surplus result increased total comprehensive income year chf 2879k 2015 chf 2853k reduction net deficit increase ',\n",
              "   'document_id': 'da344eb4-c20f-4fe0-acb0-ce3f2c8403e2',\n",
              "   'meta': {'Link': 'https://media.ifrc.org/ifrc/wp-content/uploads/sites/5/2016/11/WDR-2016-FINAL_web.pdf',\n",
              "    'Summary': 'note 1  constitution and function   kpmg sa  geneva 11 april 2017  ref we believe  that the audit evidence we have obtained is sufficient and appropriate to provide a basis for our  opinion voluntary contributions  11  6 services income  12  7 other income  12  8 postemployment defined benefit liability net  25  24 supplementary services activities aim to  provide costeffective relevant and demand driven services to individual and groups of national societies fair value is the amount for which an asset liability or financial  instrument could be exchanged between knowledgeable and willing parties in an arm s length transaction details of critical accounting estimates and judgements are provided in note 4 to these consolidated  financial statements all amounts have been rounded to the nearest thousand unless otherwise  indicated the ifrc makes estimates and assumptions concerning the future the resulting accounting estimates will by definition rarely equal the related actual results in 2015 the ifrc sold 34258 units in the equity fund that had been acquired at a weighted average cost of chf 1262k  realising a cumulative gain on disposals of chf 188k 2016 nil this does not invalidate the obligation  of member national societies to pay amounts due amounts not provisioned are considered collectable in full and are  therefore not impaired see note 27 for details of amounts included in the above  which are subject to operating leases as lessor management expects to accept the building during 2018 and thereby to make  the first repayment on 31 december 2018 there were no plan amendments or settlements as per ias 19 during either the year ended 31 december 2016 or the year  ended 31 december 2015 other objectives  include ensuring an appropriate distribution of risks and obtaining a sufficient return on investment to achieve the pension  funds objectives as explained in note 34p pension obligations are covered by independent pension plans assets which are held in a single  separate legal foundation that is governed by swiss law at 31 december 2016 the futures contracts had a net negative fair value of chf 187k that is included in  other comprehensive income the equity investments are held in a global equity trust fund that is not listed there was no exposure to commodities price risk at either 31 december 2016 or 31 december 2015 other positions are not material or are covered by provisions there were no transfers between levels during the year ended 31 december 2016 2015 nil leases    27a operating leases as lessee    cancellable operating leases  the ifrc leases warehouses office property and means of transport under cancellable operating leases at the end of 2016  chf 4026k was identified as being contingent upon performance 2015 chf nil accordingly this amount is  considered a contingent asset and has not been recognised as a receivable or as income in these consolidated financial  statements under the trems of the agreement the ifrc is due to receive usd 1650k  chf 1700k at 31 december 2016 exchange rate over a two year period from 1 january 2017 to 31 december 2018 in may 2013 the ifrc entered into an agreement with the world bank group to undertake community based risk  management in nepal all tranches subsequent to the  initial payment at contract signature are conditional upon receipt and acceptance of reports by the world bank group during 2015 the total amount of grant  funding was reduced to chf 14850k terminated staff sometimes bring actions against the ifrc for amounts over and above the amounts paid by  the ifrc upon termination this includes the secretary general as noted above under secretaries general and regional  directors the international conference of the red cross and red crescent the international conference is the supreme  deliberative body of the international red cross and red crescent movement 30c transactions with related parties  details of pension related transactions between the ifrc and its pension plans are provided in note 23 at 31 december 2016 the ifrc had an outstanding receivable due from the pension fund amounting to  chf 87k 2015 chf 202k international federation of red cross and red crescent societies geneva     notes to the consolidated financial statements  for the year ended 31 december 2016  page 38  32 strengthen national societies capacities 72900                  17900                   55000 20300                   2 health 72600                  77400                  4800                    120200                 5 the ifrc estimates the cost of resultant redundancies to be chf 569k and this would be recognised in 2017  consolidated financial statements international federation of red cross and red crescent societies geneva     notes to the consolidated financial statements  for the year ended 31 december 2016  page 40  35 changes in accounting policies    the accounting policies adopted in preparing these consolidated financial statements are consistent with those of the  previous financial year interentity transactions and balances are eliminated upon consolidation the assessment of whether the ifrc controls the foundation includes an examination of all facts and  circumstances the foundation s accounting policies are consistent  with those adopted by the ifrc joint operations  accounting policies are  consistent with those adopted by the ifrc statutory contributions recognised that have not been paid by the year end are considered  as fully impaired and are accordingly fully provided for at the period end date contributions received but not yet  recognised are included in deferred income inkind contributions of tangible assets are recognised at fair value as voluntary contributions depreciation and if  applicable impairment adjustments of such assets are included in operational expenditure in the same manner as for  purchased tangible assets contributions that are subject to specific contractual obligations or earmarked for use in a future period are not fully under  control of the ifrc income received in advance of service performance  is carried forward as service income received in advance and recognised as income in the period of service performance ii logistics services  services including procurement warehousing mobilisation and professional consultancy services they include activities previously known as membership services and programme and services  support activities pledge fees  costs are incurred to meet specific donor requirements when recipient national  societies report on their use of the funds the provision is reversed and the expense is reclassified according to its nature contributions to national societies  the ifrc makes cash contributions to fund the activities of member national societies such contributions are recognised  as operational expenditure as they are incurred receivables are initially recognised at fair value original pledged amount or invoice amount and subsequently measured  at amortised cost less provision made for impairment an impairment loss is recognised in the consolidated statement of comprehensive income whenever the carrying amount  of an asset exceeds its recoverable amount the recoverable amount of an asset is the greater of its value in use and its  fair value less costs to sell p payables    payables are financial instruments and are liabilities recognised at fair value defined benefit plans are postemployment benefit plans other than defined contribution plans they also provide benefits on death disability and termination expenses related to  defined benefits are included as employee benefits operating expenditure the cost of such benefits is recognised on an accruals basis in these  consolidated financial statements a redundancy is known when the decision to make the employee redundant has been taken and communicated designated reserves include the following    c designated reserves  selfinsurance reserve  the ifrc selfinsures its vehicles against collision loss or other damage it is not practicable to reasonably  estimate further the possible impact of the new ifrs on these consolidated financial statements',\n",
              "    'Title': 'World Disasters Report Resilience: saving lives today,investing for tomorrow'},\n",
              "   'offset_end': 515,\n",
              "   'offset_end_in_doc': 57568,\n",
              "   'offset_start': 486,\n",
              "   'offset_start_in_doc': 57539,\n",
              "   'probability': 0.5073707910502366,\n",
              "   'score': 0.23588240146636963},\n",
              "  {'answer': 'training wsp cycle water safety plans managing drinking water quality public health 2010',\n",
              "   'context': ' children age 5 die year indirect direct result malnutrition caused lack sufficient water sanitation hygiene pr ss st n et al 2008 1 map water supply system eg make flow diagram 2 identify hazards assess risks eg agreed ranking system 3 implement needed improvements eg following prioritized schedule 4 review adequacy preventive control measures eg validation operational monitoring endpoint testing 5 review wsp eg audits develop supporting processes eg training wsp cycle water safety plans managing drinking water quality public health 2010 httpwwwwhointwatersanitationhealth waterqualitysafetyplanningwhs wwd2010advocacy20102enpdfua 1 brief note rationale wsp approach potential benefits various stakeholder groups value incorporating wsps policies regulations wsp linkages initiatives water sanitation health facility improvement tool wash fit practical guide improving quality care water sanitation hygiene health care facilities water sanitation health facility improvement tool wash fit prac',\n",
              "   'document_id': '8f86d837-ab64-465b-be53-84f26ea38e12',\n",
              "   'meta': {'Link': 'https://apps.who.int/iris/bitstream/handle/10665/255649/WHO-FWC-WSH-17.03-eng.pdf;jsessionid=48EC9A5C12B725031E6F3382487BAE9A?sequence=1',\n",
              "    'Summary': 'this work is available under the creative commons attribution noncommercialsharealike 30 igo licence cc byncsa 30 igo https creativecommonsorglicensesbyncsa30igo under the terms of this licence you may copy redistribute and adapt the work for non commercial purposes provided the work is appropriately cited as indicated below global status report on water safety plans a review of proactive  risk assessment and risk management practices to ensure the safety of drinkingwater however the published material is being distributed without  warranty of any kind either expressed or implied iwa promotes wsps with who through  collaboration agreements and through its membership of water utilities research  institutes industry and individual professionals iwa is a registered  charity in england company registered in england no many more still lack  access to safe drinkingwater with at least 18 billion people relying on water sources that are faecally contaminated  who 2017 water safety planning is a comprehensive risk assessment and risk management approach that encompasses all steps  in a drinkingwater supply chain from catchment to consumer sustainable development goals  20152030 goal 6 ensure the availability and  sustainable management of water  and sanitation for all 1 wsp implementation                                                                       5 policies and regulations                                                                     17 annex b wsp data by country                                                              28 references                                                                             31 iv v acknowledgements the information included in this report was provided by more than 100 individuals from all regions of the world strategic direction  was provided by bruce gordon who and tom williams iwa the approach is inherently flexible and applicable to  systems of all sizes and resource levels to better understand the status of wsps who and iwa have undertaken a review of wsp  experiences globally in order to provide  a more complete picture of global wsp status wsp survey data were supplemented by other data sources where  available such as published literature this presents a demanding situation for independent surveillance which is often limited for  such systems risk assessment  and risk management approaches may range from operators of small systems regularly performing sanitary inspections to the  implementation of a full wsp 8 9 10 7 findings compare the number of countries that have implemented wsps based on the data available n 118 with the total number of countries in the relevant who region in this context several  countries have set targets for safe management regulations in bhutan the regulations to support the water act which took effect in 2015 require wsp implementation for all  water supply systems wsps in urban settings are also encouraged in cambodia s 2014 national drinkingwater quality  standards to date eight wsps have been approved and 39 are under revision out of 50 major water  utilities colombia s current drinkingwater regulations require all water utilities to implement  risk mapping  equivalent to water safety planning through health resolution 47162010 jamaica is working to introduce wsps  into regulations through the framework of the national water quality and surveillance plan representatives from brazil peru colombia chile ecuador and venezuela participated  in the workshop soon the portuguese and french versions will also be available at httpswwwcampusvirtualsporgq encourses selflearning in addition to confirming regulatory compliance the audit process helps water suppliers to strengthen their wsps by addressing  improvement opportunities identified by dwi auditors study results are expected to be published by the end of 2017 the ia indicators and associated guidance and tools are being revised  to reflect lessons learned through the study 15 bangladesh bhutan cambodia cook islands lao people s democratic republic mongolia nepal philippines samoa sri lanka timorleste and vanuatu this finding reinforces an important  distinction between wsp development and active sustained wsp implementation in practice as exemplified in the  south african case study the wsp therefore identified an important  opportunity to improve water quality with minor financial inputs required 13 where national or subnational governments promote wsp implementation at scale eg through regulatory  requirements for wsps there are important cost implications in new zealand on the other hand  wsp training and auditing expenses are covered by government budgets annex c includes a guidance document on creating an enabling  environment for nationallevel scaleup of wsps however wsp audit  practice is limited in many wsp implementing countries other surveys were submitted  by who representatives at country and regional levels 18 co un tr y w ho  r eg io n so ur ce  o f d at a ha ve  w sp s  be en   im pl em en te d  in   th e  co un tr y if  w sp s  ha ve  b ee n  im pl em en te d   ho w  m an y  ur ba n  w sp s  ha ve  b ee n  im pl em en te d  by   w at er  s up pl ie rs  if  w sp s  ha ve  b ee n  im pl em en te d   ho w  m an y  sm al lr ur al   w sp s  ha ve  b ee n  im pl em en te d if  w sp  p ol ic ie s  or  r eg ul at io ns   ar e  ap pr ov ed   or  u nd er   de ve lo pm en t  is  e xt er na l  ev al ua tio n  re qu ir ed  if  e xt er na l  ev al ua tio n  is  r eq ui re d   ho w  o ft en   ar e  ex te rn al   ev al ua tio ns   ca rr ie d  ou t training  materials include a facilitator s guide and powerpoint slides 2009 box 1   an overemphasis on endproduct testing misuses resources studies have shown mac kenzie et al box 2  the health burden inadequate water sanitation and hygiene continue to pose a major threat  to human health these risk factors contribute to millions of unnecessary  deaths each year including 18 million diarrhoeal related deaths in  children less than 5 years of age those who survive this disease are  often afflicted by other consequences including malnutrition inhibited  growth and impaired cognitive development mainstreaming water safety plans in adb water sector projects lessons and challenges gunnarsdottir mj gardarsson sm elliott m sigmundsdottir g bartram j 2012 benefits of water safety plans  microbiology compliance and public health think big start small scale up a road map to support countrylevel implantation of water  safety plans geneva world health organization httpwwwwhointwatersanitationhealthpublicationsthinkbig startsmallen',\n",
              "    'Title': 'GLOBAL STATUS REPORT ON WATER SAFETY PLANS. A review of proactive risk assessment and risk management practices to ensure the safety of drinking-water '},\n",
              "   'offset_end': 544,\n",
              "   'offset_end_in_doc': 81749,\n",
              "   'offset_start': 456,\n",
              "   'offset_start_in_doc': 81661,\n",
              "   'probability': 0.4845989968495549,\n",
              "   'score': -0.49298804998397827}],\n",
              " 'no_ans_gap': -1.5976983904838562,\n",
              " 'query': 'audit water safety plans',\n",
              " 'question': 'audit water safety plans'}"
            ]
          },
          "metadata": {
            "tags": []
          },
          "execution_count": 56
        }
      ]
    },
    {
      "cell_type": "code",
      "metadata": {
        "colab": {
          "base_uri": "https://localhost:8080/"
        },
        "id": "qn1VwY4r6lXS",
        "outputId": "14d39edf-0aa9-40cf-d468-26e8f12b9a61"
      },
      "source": [
        "prediction2"
      ],
      "execution_count": null,
      "outputs": [
        {
          "output_type": "execute_result",
          "data": {
            "text/plain": [
              "{'answers': [{'answer': 'plans44 audit prearranged',\n",
              "   'context': 'an address noncompliances complete noncompliant certificate water business details audit also reviews events occurred since last audit checks well wsp dealt recommendations areas auditor identified improvement could made amount nonconformance wsp audited water supply owned local authority run contractor water supply never achieved protozoa compliance due lack appropriate treatment occasionally noncompliant escherichia coli usually heavy rainfall practical guide auditing water safety plans44 audit prearranged six weeks advance audit participants cph auditor trainee auditor two representatives local authority water supplier two contracted operators supply approach followed allow sufficient time audit preparation whole audit process phase 1 report publication takes five six months legal requirement wsp approach takes form duty comprehensively risk assess water supply keep risk assessment review 2008 wsp approach became regulatory requirement three years dwi conducted formal external audit',\n",
              "   'document_id': '3da9fac3-bdd6-41e7-96f2-c9fdadf13d81',\n",
              "   'meta': {'name': 'Developing and implementing an auditing scheme for water safety plans (WSP)'},\n",
              "   'offset_end': 513,\n",
              "   'offset_end_in_doc': 10648,\n",
              "   'offset_start': 488,\n",
              "   'offset_start_in_doc': 10623,\n",
              "   'probability': 0.46462692421573776,\n",
              "   'score': -1.133832573890686},\n",
              "  {'answer': 'plans managing health risks associated climate variability change figure a54 normal tidal height increased low high tide events causing erratic waterlogging problems',\n",
              "   'context': 'llowing training climateresilient water safety planning team agreed ellie kebele administration farming activity significant hazard water supply shafi staff district water office showing farming activities near water source ellie kebele annex 5 associated measures implemented part national wash programme ethiopia currently planning way construction standard diversion ditch protect water source flood risks zabzi river longer term climate resilient wsp team also identified old rusty damaged water tank may represent public health hazard addition causing significant water wastage 80 climateresilient water safety plans managing health risks associated climate variability change figure a54 normal tidal height increased low high tide events causing erratic waterlogging problems areas metal parts tubewells affected corrosion reduced river flows also result rise riverbed levels sedimentation domestic usage drinking coastal populations use surface water pond river water assisting water rationing',\n",
              "   'document_id': '0882f991-3efd-4b26-9a57-137ad674cf83',\n",
              "   'meta': {'name': 'Climate-resilient water safety plans:Managing health risks associated with climate variability and change'},\n",
              "   'offset_end': 781,\n",
              "   'offset_end_in_doc': 10851,\n",
              "   'offset_start': 616,\n",
              "   'offset_start_in_doc': 10686,\n",
              "   'probability': 0.3786452885919656,\n",
              "   'score': -3.9624180793762207}],\n",
              " 'no_ans_gap': -3.2505375146865845,\n",
              " 'query': 'audit water safety plans',\n",
              " 'question': 'audit water safety plans'}"
            ]
          },
          "metadata": {
            "tags": []
          },
          "execution_count": 28
        }
      ]
    },
    {
      "cell_type": "markdown",
      "metadata": {
        "id": "f3KRhRsAaMHV"
      },
      "source": [
        "# Queries"
      ]
    },
    {
      "cell_type": "code",
      "metadata": {
        "id": "We97cU3RXtL5"
      },
      "source": [
        "queries = pd.read_csv('/content/drive/My Drive/SI650/queries.csv')"
      ],
      "execution_count": null,
      "outputs": []
    },
    {
      "cell_type": "code",
      "metadata": {
        "id": "uTN1YgwpX99z"
      },
      "source": [
        "lowered_q = [k.lower() for k in queries.Query]\n",
        "queries['Query'] = lowered_q"
      ],
      "execution_count": null,
      "outputs": []
    },
    {
      "cell_type": "code",
      "metadata": {
        "colab": {
          "base_uri": "https://localhost:8080/",
          "height": 979
        },
        "id": "FuujdyuwXxmj",
        "outputId": "51b105d6-6061-4d3e-8a1a-b6fc4a20f6fc"
      },
      "source": [
        "queries"
      ],
      "execution_count": null,
      "outputs": [
        {
          "output_type": "execute_result",
          "data": {
            "text/html": [
              "<div>\n",
              "<style scoped>\n",
              "    .dataframe tbody tr th:only-of-type {\n",
              "        vertical-align: middle;\n",
              "    }\n",
              "\n",
              "    .dataframe tbody tr th {\n",
              "        vertical-align: top;\n",
              "    }\n",
              "\n",
              "    .dataframe thead th {\n",
              "        text-align: right;\n",
              "    }\n",
              "</style>\n",
              "<table border=\"1\" class=\"dataframe\">\n",
              "  <thead>\n",
              "    <tr style=\"text-align: right;\">\n",
              "      <th></th>\n",
              "      <th>Query_id</th>\n",
              "      <th>Query</th>\n",
              "    </tr>\n",
              "  </thead>\n",
              "  <tbody>\n",
              "    <tr>\n",
              "      <th>0</th>\n",
              "      <td>1</td>\n",
              "      <td>how to audit water safety plans</td>\n",
              "    </tr>\n",
              "    <tr>\n",
              "      <th>1</th>\n",
              "      <td>2</td>\n",
              "      <td>annual summary reports</td>\n",
              "    </tr>\n",
              "    <tr>\n",
              "      <th>2</th>\n",
              "      <td>3</td>\n",
              "      <td>unicef reports</td>\n",
              "    </tr>\n",
              "    <tr>\n",
              "      <th>3</th>\n",
              "      <td>4</td>\n",
              "      <td>iwa reports</td>\n",
              "    </tr>\n",
              "    <tr>\n",
              "      <th>4</th>\n",
              "      <td>5</td>\n",
              "      <td>ifrc reports</td>\n",
              "    </tr>\n",
              "    <tr>\n",
              "      <th>5</th>\n",
              "      <td>6</td>\n",
              "      <td>funding for emergency</td>\n",
              "    </tr>\n",
              "    <tr>\n",
              "      <th>6</th>\n",
              "      <td>7</td>\n",
              "      <td>school wash</td>\n",
              "    </tr>\n",
              "    <tr>\n",
              "      <th>7</th>\n",
              "      <td>8</td>\n",
              "      <td>childhood development by education</td>\n",
              "    </tr>\n",
              "    <tr>\n",
              "      <th>8</th>\n",
              "      <td>9</td>\n",
              "      <td>audit of the consolidated financial statements</td>\n",
              "    </tr>\n",
              "    <tr>\n",
              "      <th>9</th>\n",
              "      <td>10</td>\n",
              "      <td>child protection policies</td>\n",
              "    </tr>\n",
              "    <tr>\n",
              "      <th>10</th>\n",
              "      <td>11</td>\n",
              "      <td>case study on blood donation drive</td>\n",
              "    </tr>\n",
              "    <tr>\n",
              "      <th>11</th>\n",
              "      <td>12</td>\n",
              "      <td>water sanitation and hygiene</td>\n",
              "    </tr>\n",
              "    <tr>\n",
              "      <th>12</th>\n",
              "      <td>13</td>\n",
              "      <td>urban disaster risk reduction</td>\n",
              "    </tr>\n",
              "    <tr>\n",
              "      <th>13</th>\n",
              "      <td>14</td>\n",
              "      <td>covid-19 and humanitarian need</td>\n",
              "    </tr>\n",
              "    <tr>\n",
              "      <th>14</th>\n",
              "      <td>15</td>\n",
              "      <td>emergency telecom</td>\n",
              "    </tr>\n",
              "    <tr>\n",
              "      <th>15</th>\n",
              "      <td>16</td>\n",
              "      <td>humanitarian and emergency relief</td>\n",
              "    </tr>\n",
              "    <tr>\n",
              "      <th>16</th>\n",
              "      <td>17</td>\n",
              "      <td>early recovery</td>\n",
              "    </tr>\n",
              "    <tr>\n",
              "      <th>17</th>\n",
              "      <td>18</td>\n",
              "      <td>shelter operations</td>\n",
              "    </tr>\n",
              "    <tr>\n",
              "      <th>18</th>\n",
              "      <td>19</td>\n",
              "      <td>disaster reports</td>\n",
              "    </tr>\n",
              "    <tr>\n",
              "      <th>19</th>\n",
              "      <td>20</td>\n",
              "      <td>policy reports</td>\n",
              "    </tr>\n",
              "    <tr>\n",
              "      <th>20</th>\n",
              "      <td>21</td>\n",
              "      <td>recovery reports</td>\n",
              "    </tr>\n",
              "    <tr>\n",
              "      <th>21</th>\n",
              "      <td>22</td>\n",
              "      <td>school sanitation hygiene program</td>\n",
              "    </tr>\n",
              "    <tr>\n",
              "      <th>22</th>\n",
              "      <td>23</td>\n",
              "      <td>2017 reports</td>\n",
              "    </tr>\n",
              "    <tr>\n",
              "      <th>23</th>\n",
              "      <td>24</td>\n",
              "      <td>wash nutrition guide book</td>\n",
              "    </tr>\n",
              "    <tr>\n",
              "      <th>24</th>\n",
              "      <td>25</td>\n",
              "      <td>climate change and urbanization</td>\n",
              "    </tr>\n",
              "    <tr>\n",
              "      <th>25</th>\n",
              "      <td>26</td>\n",
              "      <td>refugee hosting areas</td>\n",
              "    </tr>\n",
              "    <tr>\n",
              "      <th>26</th>\n",
              "      <td>27</td>\n",
              "      <td>security manual</td>\n",
              "    </tr>\n",
              "    <tr>\n",
              "      <th>27</th>\n",
              "      <td>28</td>\n",
              "      <td>program reports</td>\n",
              "    </tr>\n",
              "    <tr>\n",
              "      <th>28</th>\n",
              "      <td>29</td>\n",
              "      <td>relief reports</td>\n",
              "    </tr>\n",
              "    <tr>\n",
              "      <th>29</th>\n",
              "      <td>30</td>\n",
              "      <td>food security</td>\n",
              "    </tr>\n",
              "  </tbody>\n",
              "</table>\n",
              "</div>"
            ],
            "text/plain": [
              "    Query_id                                           Query\n",
              "0          1                 how to audit water safety plans\n",
              "1          2                          annual summary reports\n",
              "2          3                                  unicef reports\n",
              "3          4                                     iwa reports\n",
              "4          5                                    ifrc reports\n",
              "5          6                           funding for emergency\n",
              "6          7                                     school wash\n",
              "7          8              childhood development by education\n",
              "8          9  audit of the consolidated financial statements\n",
              "9         10                       child protection policies\n",
              "10        11              case study on blood donation drive\n",
              "11        12                    water sanitation and hygiene\n",
              "12        13                   urban disaster risk reduction\n",
              "13        14                  covid-19 and humanitarian need\n",
              "14        15                               emergency telecom\n",
              "15        16               humanitarian and emergency relief\n",
              "16        17                                  early recovery\n",
              "17        18                              shelter operations\n",
              "18        19                                disaster reports\n",
              "19        20                                  policy reports\n",
              "20        21                                recovery reports\n",
              "21        22               school sanitation hygiene program\n",
              "22        23                                    2017 reports\n",
              "23        24                       wash nutrition guide book\n",
              "24        25                 climate change and urbanization\n",
              "25        26                           refugee hosting areas\n",
              "26        27                                 security manual\n",
              "27        28                                 program reports\n",
              "28        29                                  relief reports\n",
              "29        30                                   food security"
            ]
          },
          "metadata": {
            "tags": []
          },
          "execution_count": 23
        }
      ]
    }
  ]
}